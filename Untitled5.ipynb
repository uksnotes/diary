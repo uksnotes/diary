{
  "nbformat": 4,
  "nbformat_minor": 0,
  "metadata": {
    "colab": {
      "name": "Untitled5.ipynb",
      "provenance": [],
      "authorship_tag": "ABX9TyPog0sfO7xFQwO8Hn3V1icT",
      "include_colab_link": true
    },
    "kernelspec": {
      "name": "python3",
      "display_name": "Python 3"
    },
    "language_info": {
      "name": "python"
    }
  },
  "cells": [
    {
      "cell_type": "markdown",
      "metadata": {
        "id": "view-in-github",
        "colab_type": "text"
      },
      "source": [
        "<a href=\"https://colab.research.google.com/github/uksnotes/diary/blob/main/Untitled5.ipynb\" target=\"_parent\"><img src=\"https://colab.research.google.com/assets/colab-badge.svg\" alt=\"Open In Colab\"/></a>"
      ]
    },
    {
      "cell_type": "code",
      "metadata": {
        "id": "24NvELFLVOY8"
      },
      "source": [
        "class Student(object):\n",
        "    def __init__(self, name: str, sid: int):\n",
        "        self.name = name\n",
        "        self.sid = sid \n",
        "        self.classes = set()\n",
        "\n",
        "    def take_class(self, class_name:str):\n",
        "        self.classes.add(class_name)\n",
        "    def drop_class(self, class_name:str):\n",
        "        self.classes.discard(class_name)"
      ],
      "execution_count": null,
      "outputs": []
    },
    {
      "cell_type": "code",
      "metadata": {
        "colab": {
          "base_uri": "https://localhost:8080/"
        },
        "id": "nZl2-1xIVv8y",
        "outputId": "51cea670-d80f-4e6c-c36e-a96e0df4b0f3"
      },
      "source": [
        "changuk_lee = Student('changuk', 2424242)\n",
        "print(changuk_lee.sid)"
      ],
      "execution_count": null,
      "outputs": [
        {
          "output_type": "stream",
          "text": [
            "2424242\n"
          ],
          "name": "stdout"
        }
      ]
    },
    {
      "cell_type": "code",
      "metadata": {
        "id": "GkrQ9e16XgKN"
      },
      "source": [
        "class DoubleMapper(object):\n",
        "    def __init__(self):\n",
        "        self.mapping = {}\n",
        "\n",
        "    def __getitem__(self, index):\n",
        "        return self.mapping.get(index, index *2)\n",
        "\n",
        "    def __setitem__(self, index, item):\n",
        "        self.mapping[index] = item\n",
        "\n"
      ],
      "execution_count": null,
      "outputs": []
    },
    {
      "cell_type": "code",
      "metadata": {
        "colab": {
          "base_uri": "https://localhost:8080/"
        },
        "id": "y4v40KrZadbi",
        "outputId": "f0237268-404f-4fd5-d59a-bda910381748"
      },
      "source": [
        "mapper = DoubleMapper()\n",
        "print(mapper[10], mapper[1,2])\n",
        "mapper[10] = 15\n",
        "print(mapper[10], mapper[1,2])"
      ],
      "execution_count": null,
      "outputs": [
        {
          "output_type": "stream",
          "text": [
            "20 (1, 2, 1, 2)\n",
            "15 (1, 2, 1, 2)\n"
          ],
          "name": "stdout"
        }
      ]
    },
    {
      "cell_type": "code",
      "metadata": {
        "colab": {
          "base_uri": "https://localhost:8080/"
        },
        "id": "_r1k5mH3albZ",
        "outputId": "161a3af3-a53f-4430-c177-69bba7113d6c"
      },
      "source": [
        "text = '''dsfasdfadsfsadfsafdsasdafasdfsdafdasdf'''\n",
        "characters = {}\n",
        "for char in text:\n",
        "    count = characters.get(char, None)\n",
        "\n",
        "    if count is None:\n",
        "        characters[char] = 0\n",
        "    characters[char] += 1\n",
        "\n",
        "characters\n",
        "\n",
        "\n",
        "for char in text:\n",
        "    count = characters.get(char, None)\n",
        "\n",
        "    if char is None:\n",
        "        characters[char] = 0 \n",
        "    characters[char] += 1\n",
        "\n",
        "characters"
      ],
      "execution_count": null,
      "outputs": [
        {
          "output_type": "execute_result",
          "data": {
            "text/plain": [
              "{'a': 18, 'd': 20, 'f': 18, 's': 20}"
            ]
          },
          "metadata": {
            "tags": []
          },
          "execution_count": 22
        }
      ]
    },
    {
      "cell_type": "code",
      "metadata": {
        "id": "sbtT-BXarItx",
        "colab": {
          "base_uri": "https://localhost:8080/"
        },
        "outputId": "be8ef01f-fcd6-4032-b5d1-9c86652ed713"
      },
      "source": [
        "from collections import deque\n",
        "\n",
        "queue = deque([1,2,3,4,5])\n",
        "\n",
        "queue.pop()\n",
        "queue.popleft()\n",
        "queue.append(6)\n",
        "queue.pop()"
      ],
      "execution_count": 36,
      "outputs": [
        {
          "output_type": "execute_result",
          "data": {
            "text/plain": [
              "6"
            ]
          },
          "metadata": {
            "tags": []
          },
          "execution_count": 36
        }
      ]
    },
    {
      "cell_type": "code",
      "metadata": {
        "colab": {
          "base_uri": "https://localhost:8080/"
        },
        "id": "kFLr8M2ytIy-",
        "outputId": "d5779d55-ec14-4ed4-bff2-6968b9e03916"
      },
      "source": [
        "stack = [2,3,4,5,6]\n",
        "stack.append(6)\n",
        "stack.pop()"
      ],
      "execution_count": 37,
      "outputs": [
        {
          "output_type": "execute_result",
          "data": {
            "text/plain": [
              "6"
            ]
          },
          "metadata": {
            "tags": []
          },
          "execution_count": 37
        }
      ]
    },
    {
      "cell_type": "code",
      "metadata": {
        "id": "KG1ZagKZtfWd"
      },
      "source": [
        ""
      ],
      "execution_count": null,
      "outputs": []
    }
  ]
}