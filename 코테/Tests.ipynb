{
 "cells": [
  {
   "cell_type": "code",
   "execution_count": 7,
   "id": "208d7377",
   "metadata": {},
   "outputs": [
    {
     "name": "stdout",
     "output_type": "stream",
     "text": [
      "1 4 2 5 3\n",
      "mixed\n"
     ]
    }
   ],
   "source": [
    "# 백준 2920번 음계\n",
    "a = list(map(int, input().split()))\n",
    "ans = 'mixed'\n",
    "if a == sorted(a):\n",
    "    ans = 'ascending'\n",
    "elif a == sorted(a, reverse = True):\n",
    "    ans = 'descending'\n",
    "print(ans)"
   ]
  },
  {
   "cell_type": "code",
   "execution_count": 8,
   "id": "c64e3ae6",
   "metadata": {},
   "outputs": [
    {
     "name": "stdout",
     "output_type": "stream",
     "text": [
      "5 21\n",
      "5 6 7 8 9\n",
      "21\n"
     ]
    }
   ],
   "source": [
    "# 백준 2798번 블랙잭\n",
    "ans = 0\n",
    "a, b = map(int, input().split())\n",
    "numbers = list(map(int, input().split()))\n",
    "for i in range(0, len(numbers)):\n",
    "    for j in range(i+1, len(numbers)):\n",
    "        for k in range(j+1, len(numbers)):\n",
    "            results = numbers[i] + numbers[j] + numbers[k]\n",
    "            if results <= b:\n",
    "                ans = max(results, ans)\n",
    "print(ans)"
   ]
  },
  {
   "cell_type": "code",
   "execution_count": 21,
   "id": "89909fda",
   "metadata": {},
   "outputs": [
    {
     "name": "stdout",
     "output_type": "stream",
     "text": [
      "3\n",
      "4\n",
      "[1, 2, 3]\n",
      "['+', '+', '+', '+', '-']\n",
      "3\n",
      "[1, 2]\n",
      "['+', '+', '+', '+', '-', '-']\n",
      "6\n",
      "[1, 2, 5]\n",
      "['+', '+', '+', '+', '-', '-', '+', '+', '-']\n"
     ]
    }
   ],
   "source": [
    "# 백준 1874번 스택 수열 \n",
    "a = int(input())\n",
    "count = 1\n",
    "stack = []\n",
    "ans = []\n",
    "\n",
    "for i in range(1, a+1):\n",
    "    num = int(input())\n",
    "    while count <= num:\n",
    "        stack.append(count)\n",
    "        count += 1\n",
    "        ans.append('+')\n",
    "    if stack[-1] == num:\n",
    "        stack.pop()\n",
    "        ans.append('-')\n",
    "    print(stack)\n",
    "    print(ans)"
   ]
  },
  {
   "cell_type": "markdown",
   "id": "6c663020",
   "metadata": {},
   "source": [
    "##### "
   ]
  }
 ],
 "metadata": {
  "kernelspec": {
   "display_name": "Python 3 (ipykernel)",
   "language": "python",
   "name": "python3"
  },
  "language_info": {
   "codemirror_mode": {
    "name": "ipython",
    "version": 3
   },
   "file_extension": ".py",
   "mimetype": "text/x-python",
   "name": "python",
   "nbconvert_exporter": "python",
   "pygments_lexer": "ipython3",
   "version": "3.7.13"
  }
 },
 "nbformat": 4,
 "nbformat_minor": 5
}
