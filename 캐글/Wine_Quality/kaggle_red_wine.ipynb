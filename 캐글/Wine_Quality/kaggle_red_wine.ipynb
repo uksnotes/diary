{
 "cells": [
  {
   "cell_type": "code",
   "execution_count": 37,
   "id": "academic-township",
   "metadata": {},
   "outputs": [],
   "source": [
    "# 조윤주, 이창욱 "
   ]
  },
  {
   "cell_type": "code",
   "execution_count": 1,
   "id": "detailed-warner",
   "metadata": {},
   "outputs": [
    {
     "name": "stdout",
     "output_type": "stream",
     "text": [
      "goormcompetition.zip: Skipping, found more recently modified local copy (use --force to force download)\r\n"
     ]
    }
   ],
   "source": [
    "!mkdir -p ~/.kaggle\n",
    "!cp kaggle.json ~/.kaggle/\n",
    "!chmod 600 ~/.kaggle/kaggle.json\n",
    "\n",
    "!kaggle competitions download -c goormcompetition"
   ]
  },
  {
   "cell_type": "code",
   "execution_count": 2,
   "id": "scenic-sensitivity",
   "metadata": {},
   "outputs": [
    {
     "data": {
      "text/plain": [
       "['result_japall.csv',\n",
       " 'winequality-red.csv',\n",
       " '2_trial.csv',\n",
       " 'rapids.ipynb',\n",
       " 'Joycity.ipynb',\n",
       " 'winequality-red_test.csv',\n",
       " 'This dataset contains logs obtained from Criteo Predictive Search.docx',\n",
       " 'Untitled.ipynb',\n",
       " 'word2vec-nlp-tutorial.zip',\n",
       " 'red_wine.ipynb',\n",
       " 'V03-Copy1.ipynb',\n",
       " 'V01.ipynb',\n",
       " 'Untitled2.ipynb',\n",
       " 'kaggle.json',\n",
       " 'data',\n",
       " 'tmp',\n",
       " 'Untitled1.ipynb',\n",
       " 'joycity2.ipynb',\n",
       " 'result.csv',\n",
       " 'joycity.csv',\n",
       " 'goormcompetition.zip',\n",
       " '.ipynb_checkpoints',\n",
       " 'V02.ipynb',\n",
       " 'V03.ipynb',\n",
       " 'Criteo_Conversion_Search.tar.gz',\n",
       " 'Criteo_Conversion_Search',\n",
       " 'results',\n",
       " 'Joycity-V02.ipynb']"
      ]
     },
     "execution_count": 2,
     "metadata": {},
     "output_type": "execute_result"
    }
   ],
   "source": [
    "import os \n",
    "from zipfile import ZipFile\n",
    "import pandas as pd \n",
    "import numpy as np\n",
    "import seaborn as sns\n",
    "import matplotlib.pyplot as plt\n",
    "from sklearn.preprocessing import MinMaxScaler\n",
    "from sklearn.preprocessing import StandardScaler\n",
    "from sklearn.preprocessing import LabelEncoder\n",
    "from sklearn.model_selection import train_test_split, GridSearchCV\n",
    "from sklearn.linear_model import LogisticRegression\n",
    "\n",
    "os.listdir()"
   ]
  },
  {
   "cell_type": "code",
   "execution_count": 3,
   "id": "civil-yemen",
   "metadata": {},
   "outputs": [
    {
     "name": "stdout",
     "output_type": "stream",
     "text": [
      "done\n",
      "<class 'pandas.core.frame.DataFrame'>\n",
      "RangeIndex: 1439 entries, 0 to 1438\n",
      "Data columns (total 12 columns):\n",
      " #   Column                Non-Null Count  Dtype  \n",
      "---  ------                --------------  -----  \n",
      " 0   fixed acidity         1439 non-null   float64\n",
      " 1   volatile acidity      1439 non-null   float64\n",
      " 2   citric acid           1439 non-null   float64\n",
      " 3   residual sugar        1439 non-null   float64\n",
      " 4   chlorides             1439 non-null   float64\n",
      " 5   free sulfur dioxide   1439 non-null   float64\n",
      " 6   total sulfur dioxide  1439 non-null   float64\n",
      " 7   density               1439 non-null   float64\n",
      " 8   pH                    1439 non-null   float64\n",
      " 9   sulphates             1439 non-null   float64\n",
      " 10  alcohol               1439 non-null   float64\n",
      " 11  quality               1439 non-null   int64  \n",
      "dtypes: float64(11), int64(1)\n",
      "memory usage: 135.0 KB\n"
     ]
    }
   ],
   "source": [
    "file_name = 'goormcompetition.zip'\n",
    "\n",
    "with ZipFile(file_name, 'r') as zip:\n",
    "    zip.extractall()\n",
    "    print('done')\n",
    "\n",
    "df = pd.read_csv('winequality-red.csv')\n",
    "df.head()\n",
    "\n",
    "df.info()\n",
    "\n",
    "bins = (0, 5, 10)\n",
    "group_names = ['bad', 'good']\n",
    "df['quality'] = pd.cut(df['quality'], bins = bins, labels = group_names)\n",
    "label_quality = LabelEncoder()\n",
    "df['quality'] = label_quality.fit_transform(df['quality'])\n",
    "\n",
    "q = df['fixed acidity'].quantile(0.90)\n",
    "df = df[df['fixed acidity'] < q]\n",
    "\n",
    "q = df['volatile acidity'].quantile(0.90)\n",
    "df = df[df['volatile acidity'] < q]\n",
    "\n",
    "q = df['citric acid'].quantile(0.90)\n",
    "df = df[df['citric acid'] < q]\n",
    "q = df['citric acid'].quantile(0.10)\n",
    "df = df[df['citric acid'] > q]\n",
    "\n",
    "q = df['residual sugar'].quantile(0.90)\n",
    "df = df[df['residual sugar'] < q]\n",
    "\n",
    "q = df['chlorides'].quantile(0.90)\n",
    "df = df[df['chlorides'] < q]\n",
    "\n",
    "q = df['free sulfur dioxide'].quantile(0.90)\n",
    "df = df[df['free sulfur dioxide'] < q]\n",
    "\n",
    "q = df['total sulfur dioxide'].quantile(0.90)\n",
    "df = df[df['total sulfur dioxide'] < q]\n",
    "\n",
    "q = df['density'].quantile(0.1)\n",
    "df = df[df['density'] > q]\n",
    "\n",
    "q = df['pH'].quantile(0.90)\n",
    "df = df[df['pH'] < q]\n",
    "\n",
    "q = df['sulphates'].quantile(0.90)\n",
    "df = df[df['sulphates'] < q]\n",
    "\n",
    "q = df['alcohol'].quantile(0.90)\n",
    "df = df[df['alcohol'] < q]\n",
    "q = df['alcohol'].quantile(0.10)\n",
    "df = df[df['alcohol'] > q]\n",
    "\n",
    "x = df.drop('quality', axis = 1)\n",
    "y = df['quality']"
   ]
  },
  {
   "cell_type": "code",
   "execution_count": 4,
   "id": "private-robinson",
   "metadata": {},
   "outputs": [
    {
     "name": "stderr",
     "output_type": "stream",
     "text": [
      "/opt/conda/lib/python3.7/site-packages/pandas/plotting/_matplotlib/tools.py:331: MatplotlibDeprecationWarning: \n",
      "The is_first_col function was deprecated in Matplotlib 3.4 and will be removed two minor releases later. Use ax.get_subplotspec().is_first_col() instead.\n",
      "  if ax.is_first_col():\n"
     ]
    },
    {
     "data": {
      "text/plain": [
       "array([[<AxesSubplot:title={'center':'fixed acidity'}>,\n",
       "        <AxesSubplot:title={'center':'volatile acidity'}>,\n",
       "        <AxesSubplot:title={'center':'citric acid'}>],\n",
       "       [<AxesSubplot:title={'center':'residual sugar'}>,\n",
       "        <AxesSubplot:title={'center':'chlorides'}>,\n",
       "        <AxesSubplot:title={'center':'free sulfur dioxide'}>],\n",
       "       [<AxesSubplot:title={'center':'total sulfur dioxide'}>,\n",
       "        <AxesSubplot:title={'center':'density'}>,\n",
       "        <AxesSubplot:title={'center':'pH'}>],\n",
       "       [<AxesSubplot:title={'center':'sulphates'}>,\n",
       "        <AxesSubplot:title={'center':'alcohol'}>, <AxesSubplot:>]],\n",
       "      dtype=object)"
      ]
     },
     "execution_count": 4,
     "metadata": {},
     "output_type": "execute_result"
    },
    {
     "data": {
      "image/png": "[encoded data removed]",
      "text/plain": [
       "<Figure size 1440x1080 with 12 Axes>"
      ]
     },
     "metadata": {
      "needs_background": "light"
     },
     "output_type": "display_data"
    }
   ],
   "source": [
    "x.hist(bins = 30, figsize = (20, 15))"
   ]
  },
  {
   "cell_type": "code",
   "execution_count": 5,
   "id": "interested-validation",
   "metadata": {},
   "outputs": [],
   "source": [
    "x_train, x_test, y_train, y_test = train_test_split(x, y, train_size = 0.2, random_state = 42, shuffle = False)"
   ]
  },
  {
   "cell_type": "code",
   "execution_count": 6,
   "id": "assured-market",
   "metadata": {},
   "outputs": [],
   "source": [
    "x_train = x_train.apply(lambda x: (x - np.mean(x))/np.std(x), axis = 0)\n",
    "x_test = x_test.apply(lambda x: (x - np.mean(x))/np.std(x), axis = 0)"
   ]
  },
  {
   "cell_type": "code",
   "execution_count": 7,
   "id": "quantitative-classics",
   "metadata": {},
   "outputs": [
    {
     "name": "stdout",
     "output_type": "stream",
     "text": [
      "1번 째 feature는 1.2의 importance를 가지고 있다\n",
      "2번 째 feature는 -1.04의 importance를 가지고 있다\n",
      "3번 째 feature는 -0.25의 importance를 가지고 있다\n",
      "4번 째 feature는 0.5의 importance를 가지고 있다\n",
      "5번 째 feature는 0.6의 importance를 가지고 있다\n",
      "6번 째 feature는 0.26의 importance를 가지고 있다\n",
      "7번 째 feature는 -0.99의 importance를 가지고 있다\n",
      "8번 째 feature는 -0.12의 importance를 가지고 있다\n",
      "9번 째 feature는 0.68의 importance를 가지고 있다\n",
      "10번 째 feature는 0.7의 importance를 가지고 있다\n",
      "11번 째 feature는 0.33의 importance를 가지고 있다\n"
     ]
    }
   ],
   "source": [
    "model = LogisticRegression().fit(x_train, y_train)\n",
    "feature_importance = model.coef_[0]\n",
    "for feature, percentage in enumerate(feature_importance):\n",
    "    print('{}번 째 feature는 {}의 importance를 가지고 있다'.format(feature+1, round(percentage,2)))"
   ]
  },
  {
   "cell_type": "code",
   "execution_count": 8,
   "id": "sexual-ranking",
   "metadata": {},
   "outputs": [
    {
     "data": {
      "text/html": [
       "<div>\n",
       "<style scoped>\n",
       "    .dataframe tbody tr th:only-of-type {\n",
       "        vertical-align: middle;\n",
       "    }\n",
       "\n",
       "    .dataframe tbody tr th {\n",
       "        vertical-align: top;\n",
       "    }\n",
       "\n",
       "    .dataframe thead th {\n",
       "        text-align: right;\n",
       "    }\n",
       "</style>\n",
       "<table border=\"1\" class=\"dataframe\">\n",
       "  <thead>\n",
       "    <tr style=\"text-align: right;\">\n",
       "      <th></th>\n",
       "      <th>fixed acidity</th>\n",
       "      <th>volatile acidity</th>\n",
       "      <th>citric acid</th>\n",
       "      <th>residual sugar</th>\n",
       "      <th>chlorides</th>\n",
       "      <th>free sulfur dioxide</th>\n",
       "      <th>total sulfur dioxide</th>\n",
       "      <th>density</th>\n",
       "      <th>pH</th>\n",
       "      <th>sulphates</th>\n",
       "      <th>alcohol</th>\n",
       "    </tr>\n",
       "  </thead>\n",
       "  <tbody>\n",
       "    <tr>\n",
       "      <th>6</th>\n",
       "      <td>0.362876</td>\n",
       "      <td>0.480369</td>\n",
       "      <td>-1.057552</td>\n",
       "      <td>-1.348580</td>\n",
       "      <td>-0.901391</td>\n",
       "      <td>0.661063</td>\n",
       "      <td>1.101570</td>\n",
       "      <td>-0.189598</td>\n",
       "      <td>-0.521272</td>\n",
       "      <td>-1.458170</td>\n",
       "      <td>-0.925804</td>\n",
       "    </tr>\n",
       "    <tr>\n",
       "      <th>8</th>\n",
       "      <td>0.242516</td>\n",
       "      <td>0.321039</td>\n",
       "      <td>-1.400265</td>\n",
       "      <td>-0.167471</td>\n",
       "      <td>-0.471546</td>\n",
       "      <td>-0.509630</td>\n",
       "      <td>-1.268057</td>\n",
       "      <td>0.359724</td>\n",
       "      <td>0.179568</td>\n",
       "      <td>-0.303851</td>\n",
       "      <td>-0.691733</td>\n",
       "    </tr>\n",
       "    <tr>\n",
       "      <th>23</th>\n",
       "      <td>1.085037</td>\n",
       "      <td>-0.395948</td>\n",
       "      <td>-0.629160</td>\n",
       "      <td>0.718361</td>\n",
       "      <td>0.710527</td>\n",
       "      <td>-0.509630</td>\n",
       "      <td>1.563937</td>\n",
       "      <td>0.359724</td>\n",
       "      <td>-2.039758</td>\n",
       "      <td>-0.723603</td>\n",
       "      <td>-0.925804</td>\n",
       "    </tr>\n",
       "    <tr>\n",
       "      <th>24</th>\n",
       "      <td>-0.840724</td>\n",
       "      <td>-1.112934</td>\n",
       "      <td>-0.372125</td>\n",
       "      <td>1.013639</td>\n",
       "      <td>0.817989</td>\n",
       "      <td>1.831757</td>\n",
       "      <td>0.003450</td>\n",
       "      <td>0.359724</td>\n",
       "      <td>0.997215</td>\n",
       "      <td>0.325778</td>\n",
       "      <td>-0.223590</td>\n",
       "    </tr>\n",
       "    <tr>\n",
       "      <th>25</th>\n",
       "      <td>-1.562884</td>\n",
       "      <td>-1.192599</td>\n",
       "      <td>-0.200769</td>\n",
       "      <td>-1.939135</td>\n",
       "      <td>0.280682</td>\n",
       "      <td>-0.119399</td>\n",
       "      <td>-0.979078</td>\n",
       "      <td>-1.425575</td>\n",
       "      <td>-0.054045</td>\n",
       "      <td>-0.408789</td>\n",
       "      <td>-1.159875</td>\n",
       "    </tr>\n",
       "  </tbody>\n",
       "</table>\n",
       "</div>"
      ],
      "text/plain": [
       "    fixed acidity  volatile acidity  citric acid  residual sugar  chlorides  \\\n",
       "6        0.362876          0.480369    -1.057552       -1.348580  -0.901391   \n",
       "8        0.242516          0.321039    -1.400265       -0.167471  -0.471546   \n",
       "23       1.085037         -0.395948    -0.629160        0.718361   0.710527   \n",
       "24      -0.840724         -1.112934    -0.372125        1.013639   0.817989   \n",
       "25      -1.562884         -1.192599    -0.200769       -1.939135   0.280682   \n",
       "\n",
       "    free sulfur dioxide  total sulfur dioxide   density        pH  sulphates  \\\n",
       "6              0.661063              1.101570 -0.189598 -0.521272  -1.458170   \n",
       "8             -0.509630             -1.268057  0.359724  0.179568  -0.303851   \n",
       "23            -0.509630              1.563937  0.359724 -2.039758  -0.723603   \n",
       "24             1.831757              0.003450  0.359724  0.997215   0.325778   \n",
       "25            -0.119399             -0.979078 -1.425575 -0.054045  -0.408789   \n",
       "\n",
       "     alcohol  \n",
       "6  -0.925804  \n",
       "8  -0.691733  \n",
       "23 -0.925804  \n",
       "24 -0.223590  \n",
       "25 -1.159875  "
      ]
     },
     "execution_count": 8,
     "metadata": {},
     "output_type": "execute_result"
    }
   ],
   "source": [
    "x_train.head()"
   ]
  },
  {
   "cell_type": "code",
   "execution_count": 9,
   "id": "verified-contrary",
   "metadata": {},
   "outputs": [
    {
     "data": {
      "text/plain": [
       "<AxesSubplot:>"
      ]
     },
     "execution_count": 9,
     "metadata": {},
     "output_type": "execute_result"
    },
    {
     "data": {
      "image/png": "[encoded data removed]",
      "text/plain": [
       "<Figure size 1152x1008 with 2 Axes>"
      ]
     },
     "metadata": {
      "needs_background": "light"
     },
     "output_type": "display_data"
    }
   ],
   "source": [
    "plt.figure(figsize=(16,14))\n",
    "sns.heatmap(x_train.corr(), annot=True)"
   ]
  },
  {
   "cell_type": "code",
   "execution_count": 10,
   "id": "confused-lawyer",
   "metadata": {},
   "outputs": [
    {
     "data": {
      "text/plain": [
       "Index(['fixed acidity', 'volatile acidity', 'citric acid', 'residual sugar',\n",
       "       'chlorides', 'free sulfur dioxide', 'total sulfur dioxide', 'density',\n",
       "       'pH', 'sulphates', 'alcohol'],\n",
       "      dtype='object')"
      ]
     },
     "execution_count": 10,
     "metadata": {},
     "output_type": "execute_result"
    }
   ],
   "source": [
    "x_train.columns"
   ]
  },
  {
   "cell_type": "code",
   "execution_count": 11,
   "id": "naked-raleigh",
   "metadata": {},
   "outputs": [
    {
     "name": "stderr",
     "output_type": "stream",
     "text": [
      "/opt/conda/lib/python3.7/site-packages/sklearn/linear_model/_logistic.py:1319: UserWarning: l1_ratio parameter is only used when penalty is 'elasticnet'. Got (penalty=l2)\n",
      "  \"(penalty={})\".format(self.penalty))\n"
     ]
    },
    {
     "data": {
      "text/plain": [
       "0.6133828996282528"
      ]
     },
     "execution_count": 11,
     "metadata": {},
     "output_type": "execute_result"
    }
   ],
   "source": [
    "x_train_new = x_train.drop(['volatile acidity', 'fixed acidity',], axis = 1) # residual\n",
    "x_test_new = x_test.drop(['volatile acidity', 'fixed acidity', ], axis = 1)\n",
    "model = LogisticRegression(C = 0.09999999999999673, l1_ratio= 0.0).fit(x_train_new, y_train)\n",
    "model.score(x_test_new, y_test)"
   ]
  },
  {
   "cell_type": "code",
   "execution_count": 12,
   "id": "drawn-tunnel",
   "metadata": {},
   "outputs": [
    {
     "name": "stderr",
     "output_type": "stream",
     "text": [
      "/opt/conda/lib/python3.7/site-packages/pandas/plotting/_matplotlib/tools.py:331: MatplotlibDeprecationWarning: \n",
      "The is_first_col function was deprecated in Matplotlib 3.4 and will be removed two minor releases later. Use ax.get_subplotspec().is_first_col() instead.\n",
      "  if ax.is_first_col():\n"
     ]
    },
    {
     "data": {
      "text/plain": [
       "array([[<AxesSubplot:title={'center':'fixed acidity'}>,\n",
       "        <AxesSubplot:title={'center':'volatile acidity'}>,\n",
       "        <AxesSubplot:title={'center':'citric acid'}>],\n",
       "       [<AxesSubplot:title={'center':'residual sugar'}>,\n",
       "        <AxesSubplot:title={'center':'chlorides'}>,\n",
       "        <AxesSubplot:title={'center':'free sulfur dioxide'}>],\n",
       "       [<AxesSubplot:title={'center':'total sulfur dioxide'}>,\n",
       "        <AxesSubplot:title={'center':'density'}>,\n",
       "        <AxesSubplot:title={'center':'pH'}>],\n",
       "       [<AxesSubplot:title={'center':'sulphates'}>,\n",
       "        <AxesSubplot:title={'center':'alcohol'}>, <AxesSubplot:>]],\n",
       "      dtype=object)"
      ]
     },
     "execution_count": 12,
     "metadata": {},
     "output_type": "execute_result"
    },
    {
     "data": {
      "image/png": "[encoded data removed]",
      "text/plain": [
       "<Figure size 720x720 with 12 Axes>"
      ]
     },
     "metadata": {
      "needs_background": "light"
     },
     "output_type": "display_data"
    }
   ],
   "source": [
    "x_train.hist(figsize = (10, 10))"
   ]
  },
  {
   "cell_type": "code",
   "execution_count": 24,
   "id": "changing-stuart",
   "metadata": {},
   "outputs": [
    {
     "data": {
      "text/plain": [
       "0.6394052044609665"
      ]
     },
     "execution_count": 24,
     "metadata": {},
     "output_type": "execute_result"
    }
   ],
   "source": [
    "x_train_new = x_train.drop(['residual sugar'], axis = 1) # residual\n",
    "x_test_new = x_test.drop(['residual sugar'], axis = 1)\n",
    "model = LogisticRegression().fit(x_train_new, y_train)\n",
    "model.score(x_test_new, y_test)"
   ]
  },
  {
   "cell_type": "code",
   "execution_count": 25,
   "id": "authorized-julian",
   "metadata": {},
   "outputs": [
    {
     "data": {
      "text/plain": [
       "0.6431226765799256"
      ]
     },
     "execution_count": 25,
     "metadata": {},
     "output_type": "execute_result"
    }
   ],
   "source": [
    "x_train_new = x_train.drop(['free sulfur dioxide'], axis = 1) # free sulfur\n",
    "x_test_new = x_test.drop(['free sulfur dioxide'], axis = 1)\n",
    "model = LogisticRegression().fit(x_train_new, y_train)\n",
    "model.score(x_test_new, y_test)"
   ]
  },
  {
   "cell_type": "code",
   "execution_count": 26,
   "id": "developing-origin",
   "metadata": {},
   "outputs": [
    {
     "data": {
      "text/plain": [
       "0.6356877323420075"
      ]
     },
     "execution_count": 26,
     "metadata": {},
     "output_type": "execute_result"
    }
   ],
   "source": [
    "x_train_new = x_train.drop(['free sulfur dioxide', 'residual sugar'], axis = 1) # density\n",
    "x_test_new = x_test.drop(['free sulfur dioxide', 'residual sugar'], axis = 1)\n",
    "model = LogisticRegression().fit(x_train_new, y_train)\n",
    "model.score(x_test_new, y_test)"
   ]
  },
  {
   "cell_type": "code",
   "execution_count": 27,
   "id": "caroline-twins",
   "metadata": {},
   "outputs": [
    {
     "data": {
      "text/plain": [
       "0.654275092936803"
      ]
     },
     "execution_count": 27,
     "metadata": {},
     "output_type": "execute_result"
    }
   ],
   "source": [
    "x_train_new = x_train.drop(['density'], axis = 1) # density\n",
    "x_test_new = x_test.drop(['density'], axis = 1)\n",
    "model = LogisticRegression().fit(x_train_new, y_train)\n",
    "model.score(x_test_new, y_test)"
   ]
  },
  {
   "cell_type": "code",
   "execution_count": 28,
   "id": "regular-convenience",
   "metadata": {},
   "outputs": [
    {
     "data": {
      "text/plain": [
       "Index(['fixed acidity', 'volatile acidity', 'citric acid', 'residual sugar',\n",
       "       'chlorides', 'free sulfur dioxide', 'total sulfur dioxide', 'density',\n",
       "       'pH', 'sulphates', 'alcohol'],\n",
       "      dtype='object')"
      ]
     },
     "execution_count": 28,
     "metadata": {},
     "output_type": "execute_result"
    }
   ],
   "source": [
    "x_train.columns"
   ]
  },
  {
   "cell_type": "code",
   "execution_count": 29,
   "id": "together-consequence",
   "metadata": {},
   "outputs": [
    {
     "data": {
      "text/plain": [
       "0.6468401486988847"
      ]
     },
     "execution_count": 29,
     "metadata": {},
     "output_type": "execute_result"
    }
   ],
   "source": [
    "x_train_new = x_train.drop(['pH'], axis = 1) # pH\n",
    "x_test_new = x_test.drop(['pH'], axis = 1)\n",
    "model = LogisticRegression().fit(x_train_new, y_train)\n",
    "model.score(x_test_new, y_test)"
   ]
  },
  {
   "cell_type": "code",
   "execution_count": 33,
   "id": "coupled-pittsburgh",
   "metadata": {},
   "outputs": [
    {
     "data": {
      "text/plain": [
       "{'C': 1.584893192461046, 'l1_ratio': 0.96}"
      ]
     },
     "execution_count": 33,
     "metadata": {},
     "output_type": "execute_result"
    }
   ],
   "source": [
    "param_grid = {\n",
    "    'C': 10.0**np.arange(-5, 2, step = 0.1),\n",
    "    'l1_ratio': np.arange(0, 1, step = 0.01)\n",
    "}\n",
    "\n",
    "lr_cv = LogisticRegression(penalty = 'elasticnet', solver = 'saga',\n",
    "                              max_iter = 1e3, random_state = 42)\n",
    "grid_search = GridSearchCV(lr_cv, param_grid, \n",
    "                          cv = 5, \n",
    "                          scoring = 'accuracy',\n",
    "                          n_jobs = 10)\n",
    "grid_search.fit(x_train_new, y_train)\n",
    "best = grid_search.best_params_\n",
    "best"
   ]
  },
  {
   "cell_type": "code",
   "execution_count": 20,
   "id": "important-anxiety",
   "metadata": {},
   "outputs": [
    {
     "name": "stdout",
     "output_type": "stream",
     "text": [
      "<class 'pandas.core.frame.DataFrame'>\n",
      "RangeIndex: 160 entries, 0 to 159\n",
      "Data columns (total 11 columns):\n",
      " #   Column                Non-Null Count  Dtype  \n",
      "---  ------                --------------  -----  \n",
      " 0   fixed acidity         160 non-null    float64\n",
      " 1   volatile acidity      160 non-null    float64\n",
      " 2   citric acid           160 non-null    float64\n",
      " 3   residual sugar        160 non-null    float64\n",
      " 4   chlorides             160 non-null    float64\n",
      " 5   free sulfur dioxide   160 non-null    int64  \n",
      " 6   total sulfur dioxide  160 non-null    int64  \n",
      " 7   density               160 non-null    float64\n",
      " 8   pH                    160 non-null    float64\n",
      " 9   sulphates             160 non-null    float64\n",
      " 10  alcohol               160 non-null    float64\n",
      "dtypes: float64(9), int64(2)\n",
      "memory usage: 13.9 KB\n"
     ]
    }
   ],
   "source": [
    "submit_data = pd.read_csv('winequality-red_test.csv')\n",
    "submit_data.info()"
   ]
  },
  {
   "cell_type": "code",
   "execution_count": 1,
   "id": "established-while",
   "metadata": {},
   "outputs": [
    {
     "ename": "NameError",
     "evalue": "name 'x_train' is not defined",
     "output_type": "error",
     "traceback": [
      "\u001b[0;31m\u001b[0m",
      "\u001b[0;31mNameError\u001b[0mTraceback (most recent call last)",
      "\u001b[0;32m<ipython-input-1-b87c71acf82a>\u001b[0m in \u001b[0;36m<module>\u001b[0;34m\u001b[0m\n\u001b[0;32m----> 1\u001b[0;31m \u001b[0mx_train_new\u001b[0m \u001b[0;34m=\u001b[0m \u001b[0mx_train\u001b[0m\u001b[0;34m.\u001b[0m\u001b[0mdrop\u001b[0m\u001b[0;34m(\u001b[0m\u001b[0;34m[\u001b[0m\u001b[0;34m'density'\u001b[0m\u001b[0;34m]\u001b[0m\u001b[0;34m,\u001b[0m \u001b[0maxis\u001b[0m \u001b[0;34m=\u001b[0m \u001b[0;36m1\u001b[0m\u001b[0;34m)\u001b[0m\u001b[0;34m\u001b[0m\u001b[0;34m\u001b[0m\u001b[0m\n\u001b[0m\u001b[1;32m      2\u001b[0m \u001b[0msubmit_data_new\u001b[0m \u001b[0;34m=\u001b[0m \u001b[0msubmit_data\u001b[0m\u001b[0;34m.\u001b[0m\u001b[0mdrop\u001b[0m\u001b[0;34m(\u001b[0m\u001b[0;34m[\u001b[0m\u001b[0;34m'density'\u001b[0m\u001b[0;34m]\u001b[0m\u001b[0;34m,\u001b[0m \u001b[0maxis\u001b[0m \u001b[0;34m=\u001b[0m \u001b[0;36m1\u001b[0m\u001b[0;34m)\u001b[0m\u001b[0;34m\u001b[0m\u001b[0;34m\u001b[0m\u001b[0m\n\u001b[1;32m      3\u001b[0m \u001b[0;34m\u001b[0m\u001b[0m\n\u001b[1;32m      4\u001b[0m \u001b[0mmodel\u001b[0m \u001b[0;34m=\u001b[0m \u001b[0mLogisticRegression\u001b[0m\u001b[0;34m(\u001b[0m\u001b[0mC\u001b[0m \u001b[0;34m=\u001b[0m \u001b[0;36m1.584\u001b[0m\u001b[0;34m,\u001b[0m \u001b[0ml1_ratio\u001b[0m \u001b[0;34m=\u001b[0m \u001b[0;36m0.96\u001b[0m\u001b[0;34m)\u001b[0m\u001b[0;34m.\u001b[0m\u001b[0mfit\u001b[0m\u001b[0;34m(\u001b[0m\u001b[0mx_train_new\u001b[0m\u001b[0;34m,\u001b[0m \u001b[0my_train\u001b[0m\u001b[0;34m)\u001b[0m\u001b[0;34m\u001b[0m\u001b[0;34m\u001b[0m\u001b[0m\n\u001b[1;32m      5\u001b[0m \u001b[0my_pred\u001b[0m \u001b[0;34m=\u001b[0m \u001b[0mmodel\u001b[0m\u001b[0;34m.\u001b[0m\u001b[0mpredict\u001b[0m\u001b[0;34m(\u001b[0m\u001b[0msubmit_data_new\u001b[0m\u001b[0;34m)\u001b[0m\u001b[0;34m\u001b[0m\u001b[0;34m\u001b[0m\u001b[0m\n",
      "\u001b[0;31mNameError\u001b[0m: name 'x_train' is not defined"
     ]
    }
   ],
   "source": [
    "x_train_new = x_train.drop(['density'], axis = 1)\n",
    "submit_data_new = submit_data.drop(['density'], axis = 1)\n",
    "\n",
    "model = LogisticRegression(C = 1.584, l1_ratio = 0.96).fit(x_train_new, y_train)\n",
    "y_pred = model.predict(submit_data_new)\n",
    "submit_data_new['quality'] = y_pred\n",
    "submit_data_new.to_csv('result.csv' )"
   ]
  },
  {
   "cell_type": "code",
   "execution_count": 35,
   "id": "elementary-madison",
   "metadata": {},
   "outputs": [
    {
     "data": {
      "text/html": [
       "<div>\n",
       "<style scoped>\n",
       "    .dataframe tbody tr th:only-of-type {\n",
       "        vertical-align: middle;\n",
       "    }\n",
       "\n",
       "    .dataframe tbody tr th {\n",
       "        vertical-align: top;\n",
       "    }\n",
       "\n",
       "    .dataframe thead th {\n",
       "        text-align: right;\n",
       "    }\n",
       "</style>\n",
       "<table border=\"1\" class=\"dataframe\">\n",
       "  <thead>\n",
       "    <tr style=\"text-align: right;\">\n",
       "      <th></th>\n",
       "      <th>fixed acidity</th>\n",
       "      <th>volatile acidity</th>\n",
       "      <th>citric acid</th>\n",
       "      <th>residual sugar</th>\n",
       "      <th>chlorides</th>\n",
       "      <th>free sulfur dioxide</th>\n",
       "      <th>total sulfur dioxide</th>\n",
       "      <th>pH</th>\n",
       "      <th>sulphates</th>\n",
       "      <th>alcohol</th>\n",
       "      <th>quality</th>\n",
       "    </tr>\n",
       "  </thead>\n",
       "  <tbody>\n",
       "    <tr>\n",
       "      <th>0</th>\n",
       "      <td>7.3</td>\n",
       "      <td>0.670</td>\n",
       "      <td>0.02</td>\n",
       "      <td>2.20</td>\n",
       "      <td>0.072</td>\n",
       "      <td>31</td>\n",
       "      <td>92</td>\n",
       "      <td>3.32</td>\n",
       "      <td>0.68</td>\n",
       "      <td>11.066667</td>\n",
       "      <td>0</td>\n",
       "    </tr>\n",
       "    <tr>\n",
       "      <th>1</th>\n",
       "      <td>7.2</td>\n",
       "      <td>0.370</td>\n",
       "      <td>0.32</td>\n",
       "      <td>2.00</td>\n",
       "      <td>0.062</td>\n",
       "      <td>15</td>\n",
       "      <td>28</td>\n",
       "      <td>3.23</td>\n",
       "      <td>0.73</td>\n",
       "      <td>11.300000</td>\n",
       "      <td>0</td>\n",
       "    </tr>\n",
       "    <tr>\n",
       "      <th>2</th>\n",
       "      <td>7.4</td>\n",
       "      <td>0.785</td>\n",
       "      <td>0.19</td>\n",
       "      <td>5.20</td>\n",
       "      <td>0.094</td>\n",
       "      <td>19</td>\n",
       "      <td>98</td>\n",
       "      <td>3.16</td>\n",
       "      <td>0.52</td>\n",
       "      <td>9.566667</td>\n",
       "      <td>0</td>\n",
       "    </tr>\n",
       "    <tr>\n",
       "      <th>3</th>\n",
       "      <td>6.9</td>\n",
       "      <td>0.630</td>\n",
       "      <td>0.02</td>\n",
       "      <td>1.90</td>\n",
       "      <td>0.078</td>\n",
       "      <td>18</td>\n",
       "      <td>30</td>\n",
       "      <td>3.40</td>\n",
       "      <td>0.75</td>\n",
       "      <td>9.800000</td>\n",
       "      <td>0</td>\n",
       "    </tr>\n",
       "    <tr>\n",
       "      <th>4</th>\n",
       "      <td>6.9</td>\n",
       "      <td>0.580</td>\n",
       "      <td>0.20</td>\n",
       "      <td>1.75</td>\n",
       "      <td>0.058</td>\n",
       "      <td>8</td>\n",
       "      <td>22</td>\n",
       "      <td>3.38</td>\n",
       "      <td>0.49</td>\n",
       "      <td>11.700000</td>\n",
       "      <td>0</td>\n",
       "    </tr>\n",
       "    <tr>\n",
       "      <th>...</th>\n",
       "      <td>...</td>\n",
       "      <td>...</td>\n",
       "      <td>...</td>\n",
       "      <td>...</td>\n",
       "      <td>...</td>\n",
       "      <td>...</td>\n",
       "      <td>...</td>\n",
       "      <td>...</td>\n",
       "      <td>...</td>\n",
       "      <td>...</td>\n",
       "      <td>...</td>\n",
       "    </tr>\n",
       "    <tr>\n",
       "      <th>155</th>\n",
       "      <td>6.2</td>\n",
       "      <td>0.600</td>\n",
       "      <td>0.08</td>\n",
       "      <td>2.00</td>\n",
       "      <td>0.090</td>\n",
       "      <td>32</td>\n",
       "      <td>44</td>\n",
       "      <td>3.45</td>\n",
       "      <td>0.58</td>\n",
       "      <td>10.500000</td>\n",
       "      <td>0</td>\n",
       "    </tr>\n",
       "    <tr>\n",
       "      <th>156</th>\n",
       "      <td>5.9</td>\n",
       "      <td>0.550</td>\n",
       "      <td>0.10</td>\n",
       "      <td>2.20</td>\n",
       "      <td>0.062</td>\n",
       "      <td>39</td>\n",
       "      <td>51</td>\n",
       "      <td>3.52</td>\n",
       "      <td>0.76</td>\n",
       "      <td>11.200000</td>\n",
       "      <td>0</td>\n",
       "    </tr>\n",
       "    <tr>\n",
       "      <th>157</th>\n",
       "      <td>6.3</td>\n",
       "      <td>0.510</td>\n",
       "      <td>0.13</td>\n",
       "      <td>2.30</td>\n",
       "      <td>0.076</td>\n",
       "      <td>29</td>\n",
       "      <td>40</td>\n",
       "      <td>3.42</td>\n",
       "      <td>0.75</td>\n",
       "      <td>11.000000</td>\n",
       "      <td>0</td>\n",
       "    </tr>\n",
       "    <tr>\n",
       "      <th>158</th>\n",
       "      <td>5.9</td>\n",
       "      <td>0.645</td>\n",
       "      <td>0.12</td>\n",
       "      <td>2.00</td>\n",
       "      <td>0.075</td>\n",
       "      <td>32</td>\n",
       "      <td>44</td>\n",
       "      <td>3.57</td>\n",
       "      <td>0.71</td>\n",
       "      <td>10.200000</td>\n",
       "      <td>0</td>\n",
       "    </tr>\n",
       "    <tr>\n",
       "      <th>159</th>\n",
       "      <td>6.0</td>\n",
       "      <td>0.310</td>\n",
       "      <td>0.47</td>\n",
       "      <td>3.60</td>\n",
       "      <td>0.067</td>\n",
       "      <td>18</td>\n",
       "      <td>42</td>\n",
       "      <td>3.39</td>\n",
       "      <td>0.66</td>\n",
       "      <td>11.000000</td>\n",
       "      <td>0</td>\n",
       "    </tr>\n",
       "  </tbody>\n",
       "</table>\n",
       "<p>160 rows × 11 columns</p>\n",
       "</div>"
      ],
      "text/plain": [
       "     fixed acidity  volatile acidity  citric acid  residual sugar  chlorides  \\\n",
       "0              7.3             0.670         0.02            2.20      0.072   \n",
       "1              7.2             0.370         0.32            2.00      0.062   \n",
       "2              7.4             0.785         0.19            5.20      0.094   \n",
       "3              6.9             0.630         0.02            1.90      0.078   \n",
       "4              6.9             0.580         0.20            1.75      0.058   \n",
       "..             ...               ...          ...             ...        ...   \n",
       "155            6.2             0.600         0.08            2.00      0.090   \n",
       "156            5.9             0.550         0.10            2.20      0.062   \n",
       "157            6.3             0.510         0.13            2.30      0.076   \n",
       "158            5.9             0.645         0.12            2.00      0.075   \n",
       "159            6.0             0.310         0.47            3.60      0.067   \n",
       "\n",
       "     free sulfur dioxide  total sulfur dioxide    pH  sulphates    alcohol  \\\n",
       "0                     31                    92  3.32       0.68  11.066667   \n",
       "1                     15                    28  3.23       0.73  11.300000   \n",
       "2                     19                    98  3.16       0.52   9.566667   \n",
       "3                     18                    30  3.40       0.75   9.800000   \n",
       "4                      8                    22  3.38       0.49  11.700000   \n",
       "..                   ...                   ...   ...        ...        ...   \n",
       "155                   32                    44  3.45       0.58  10.500000   \n",
       "156                   39                    51  3.52       0.76  11.200000   \n",
       "157                   29                    40  3.42       0.75  11.000000   \n",
       "158                   32                    44  3.57       0.71  10.200000   \n",
       "159                   18                    42  3.39       0.66  11.000000   \n",
       "\n",
       "     quality  \n",
       "0          0  \n",
       "1          0  \n",
       "2          0  \n",
       "3          0  \n",
       "4          0  \n",
       "..       ...  \n",
       "155        0  \n",
       "156        0  \n",
       "157        0  \n",
       "158        0  \n",
       "159        0  \n",
       "\n",
       "[160 rows x 11 columns]"
      ]
     },
     "execution_count": 35,
     "metadata": {},
     "output_type": "execute_result"
    }
   ],
   "source": [
    "submit_data_new"
   ]
  },
  {
   "cell_type": "code",
   "execution_count": 36,
   "id": "surprising-great",
   "metadata": {},
   "outputs": [
    {
     "data": {
      "text/plain": [
       "0    137\n",
       "1     23\n",
       "Name: quality, dtype: int64"
      ]
     },
     "execution_count": 36,
     "metadata": {},
     "output_type": "execute_result"
    }
   ],
   "source": [
    "submit_data_new['quality'].value_counts()"
   ]
  },
  {
   "cell_type": "code",
   "execution_count": null,
   "id": "amino-evolution",
   "metadata": {},
   "outputs": [],
   "source": []
  },
  {
   "cell_type": "code",
   "execution_count": null,
   "id": "norman-continuity",
   "metadata": {},
   "outputs": [],
   "source": []
  }
 ],
 "metadata": {
  "kernelspec": {
   "display_name": "Python 3",
   "language": "python",
   "name": "python3"
  },
  "language_info": {
   "codemirror_mode": {
    "name": "ipython",
    "version": 3
   },
   "file_extension": ".py",
   "mimetype": "text/x-python",
   "name": "python",
   "nbconvert_exporter": "python",
   "pygments_lexer": "ipython3",
   "version": "3.7.10"
  }
 },
 "nbformat": 4,
 "nbformat_minor": 5
}
