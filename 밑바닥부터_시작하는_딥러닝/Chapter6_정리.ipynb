{
  "nbformat": 4,
  "nbformat_minor": 0,
  "metadata": {
    "colab": {
      "name": "Chapter6_정리.ipynb",
      "provenance": [],
      "collapsed_sections": []
    },
    "kernelspec": {
      "name": "python3",
      "display_name": "Python 3"
    },
    "language_info": {
      "name": "python"
    }
  },
  "cells": [
    {
      "cell_type": "markdown",
      "metadata": {
        "id": "TX4-3OdsmQGV"
      },
      "source": [
        "## **6.1 매개변수 갱신** \n",
        "- SGD(확률적 경사 하강법) : W <- W - learning_rate*aL/aW\n",
        "- SGD 단점 : 비효율적인 경우가 있음 \n",
        "- x^2/20 + y^2 인 경우 기울기 대부분이 (0,0)을 가르키지않음 \n",
        "- 모멘텀 : v <- av - n*aL/aW \n",
        "- W <- W + v \n",
        "- AdaGrad : h <- h + dL/dW * dL/dW\n",
        "- w <- w -learning_rate * dL/dW 1/sqrt(h) \n",
        "- Adam : 모멘텀 + AdaGrad \n",
        "\n"
      ]
    },
    {
      "cell_type": "markdown",
      "metadata": {
        "id": "LAf8ViAGqx9O"
      },
      "source": [
        "## **6.2 가중치의 초깃값**\n",
        "- 첫번째 두번째 층의 가중치 초기값 0으로 할 시 두번째 층의 뉴런에 모두 같은 값이 전달 \n",
        "- 가중치 고르게 되는 상황을 방지하려면 초깃값 무작위 설정\n",
        "- 활성화값이 0과 1에 치우치게 된다면 기울기 소실의 문제점 생김 \n",
        "- 0.5에 치우치게 된다면 뉴런이 같은 값을 출력하고 있으니 문제점 생김 \n",
        "- 글로로트와 벤지오 논문에 권장하는 Xavier 값을 쓴다면 활성값들이 적절한 분포를 가짐 \n",
        "- n개의 노드에서 표준편차가 1/sqrt(n)을 사용 \n",
        "- ReLu 이용시 n개의 노드일 때 sqrt(2/n)인 He 초깃값 사용 \n"
      ]
    },
    {
      "cell_type": "markdown",
      "metadata": {
        "id": "ty5ifIcFzfZe"
      },
      "source": [
        "## **6.3 배치 정규화** \n",
        "- 배치 정규화 알고리즘\n",
        "- 장점 : 학습을 빨리 진행 초깃값에 크게 의존하지 않음 오버피팅 억제 \n",
        "- 데이터 분포가 평균이 0 분산이 1이 되도록 정규화 \n",
        "- 오버피팅 : 매개변수가 많고 표현력이 높은 모델 훈련 데이터 적음 \n",
        "- 가중치 감소로 오버피팅 해결 \n",
        "- 큰 가중치에는 큰 패널티를 부여 오버피팅 방지 \n",
        "- 드롭아웃 : 앙상블 학습 여러 모델의 출력을 평균 내어 추론 \n",
        "- "
      ]
    },
    {
      "cell_type": "code",
      "metadata": {
        "id": "xO4N6vc3XQCK"
      },
      "source": [
        ""
      ],
      "execution_count": null,
      "outputs": []
    },
    {
      "cell_type": "code",
      "metadata": {
        "id": "fFRYkz-YXS8S"
      },
      "source": [
        ""
      ],
      "execution_count": null,
      "outputs": []
    }
  ]
}