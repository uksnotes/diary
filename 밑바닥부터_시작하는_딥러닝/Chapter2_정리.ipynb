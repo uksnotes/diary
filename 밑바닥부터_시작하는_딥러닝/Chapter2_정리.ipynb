{
  "nbformat": 4,
  "nbformat_minor": 0,
  "metadata": {
    "colab": {
      "name": "밑바닥부터_시작하는_딥러닝_Chapter2.ipynb",
      "provenance": [],
      "authorship_tag": "ABX9TyNWDdwMbGzRHwgitHb5fLhl",
      "include_colab_link": true
    },
    "kernelspec": {
      "name": "python3",
      "display_name": "Python 3"
    },
    "language_info": {
      "name": "python"
    }
  },
  "cells": [
    {
      "cell_type": "markdown",
      "metadata": {
        "id": "view-in-github",
        "colab_type": "text"
      },
      "source": [
        "<a href=\"https://colab.research.google.com/github/uksnotes/diary/blob/main/%EB%B0%91%EB%B0%94%EB%8B%A5%EB%B6%80%ED%84%B0_%EC%8B%9C%EC%9E%91%ED%95%98%EB%8A%94_%EB%94%A5%EB%9F%AC%EB%8B%9D_Chapter2.ipynb\" target=\"_parent\"><img src=\"https://colab.research.google.com/assets/colab-badge.svg\" alt=\"Open In Colab\"/></a>"
      ]
    },
    {
      "cell_type": "markdown",
      "metadata": {
        "id": "eiDU2gfdvxDB"
      },
      "source": [
        "## AND 구현"
      ]
    },
    {
      "cell_type": "code",
      "metadata": {
        "id": "ZbKWRMJUvvnM"
      },
      "source": [
        "def AND(x1, x2):\n",
        "    w1, w2, theta = 0.5, 0.5, 0.7\n",
        "    temp = x1*w1+x2*w2\n",
        "    if temp <= theta:\n",
        "        return 0\n",
        "    else:\n",
        "        return 1\n",
        "\n",
        "AND(1,0)"
      ],
      "execution_count": null,
      "outputs": []
    },
    {
      "cell_type": "markdown",
      "metadata": {
        "id": "7fMd0qKPw-ka"
      },
      "source": [
        "## AND BIAS + W1X1 + W2X2 구현"
      ]
    },
    {
      "cell_type": "code",
      "metadata": {
        "colab": {
          "base_uri": "https://localhost:8080/"
        },
        "id": "NeFra-9evyt5",
        "outputId": "69b14dd3-02b4-4ee5-d0e1-a0e3a9e46608"
      },
      "source": [
        "import numpy as np\n",
        "def AND(x1, x2):\n",
        "    x = np.array([x1,x2])\n",
        "    w = np.array([0.7,0.7])\n",
        "    b = -0.5\n",
        "    temp = np.sum(w*x)+b\n",
        "    if temp <= 0:\n",
        "        return 0\n",
        "    else:\n",
        "        return 1 \n",
        "\n",
        "AND(0.5, 0.5)"
      ],
      "execution_count": 4,
      "outputs": [
        {
          "output_type": "execute_result",
          "data": {
            "text/plain": [
              "1"
            ]
          },
          "metadata": {
            "tags": []
          },
          "execution_count": 4
        }
      ]
    },
    {
      "cell_type": "markdown",
      "metadata": {
        "id": "tic2dGvKxH-T"
      },
      "source": [
        "## NAND는 다 같지만 W와 B가 -로 바뀐다"
      ]
    },
    {
      "cell_type": "code",
      "metadata": {
        "colab": {
          "base_uri": "https://localhost:8080/"
        },
        "id": "t2ev_cfexEC2",
        "outputId": "ad25f0c7-8531-4074-d3e7-73925e3e81b2"
      },
      "source": [
        "import numpy as np\n",
        "def NAND(x1, x2):\n",
        "    x = np.array([x1,x2])\n",
        "    w = np.array([-0.7,-0.7])\n",
        "    b = 0.5\n",
        "    temp = np.sum(w*x)+b\n",
        "    if temp <= 0:\n",
        "        return 0\n",
        "    else:\n",
        "        return 1 \n",
        "\n",
        "NAND(0.5, 0.5)"
      ],
      "execution_count": 7,
      "outputs": [
        {
          "output_type": "execute_result",
          "data": {
            "text/plain": [
              "0"
            ]
          },
          "metadata": {
            "tags": []
          },
          "execution_count": 7
        }
      ]
    },
    {
      "cell_type": "markdown",
      "metadata": {
        "id": "HUXyt5X32Q6v"
      },
      "source": [
        "Chapter 2 정리 \n",
        "\n",
        "퍼셉트론 \n",
        "신경망 \n",
        "1 흐른다 0 안 흐른다 \n",
        "노드에 가중치가 곱해진다 \n",
        "가중치가 클수록 신호가 중요하다\n",
        "다수의 신호를 입력으로 받아 하나의 신호를 출력\n",
        "\n",
        "AND 게이트\n",
        "X1, X2가 모두 1 일 때 1을 출력 \n",
        "(0.5, 0.5, Delta) 일 때 (0.5, 0.5, 0.7) 만족 \n",
        "\n",
        "NAND 게이트 \n",
        "똑같은 원리이지만 AND를 뒤집은 값 \n",
        "X1, X2가 하나라도 0일 때 1을 출력 \n",
        "NAND 게이트는 AND를 뒤집은 값이기에 (-0.5, -0.5, -0.7) 만족 \n",
        "\n",
        "OR 게이트 \n",
        "둘 중 하나의 원리 \n",
        "X1, X2 둘 중 하나라도 1이면 1을 출력 \n",
        "\n",
        "편향(BIAS)\n",
        "B + W1X1 + W2X2 <= 0 이면 0 \n",
        "B + W1X1 + W2X2 > 0 이면 1 \n",
        "\n",
        "XOR 게이트\n",
        "둘 중 하나만 1일 때 1을 출력\n",
        "배타적 논리합(자기 외에는 거부)\n",
        "OR 게이트와 유사하나 XOR 게이트 구현 불가능 \n",
        "OR 직선으로 나눌 수 있으나 XOR는 불가능\n",
        "다층 퍼셉트론으로 표기가능\n",
        "NAND와 OR 게이트 입력 후 AND로 다시 출력하면 XOR 게이트가 만들어 짐  \n",
        "\n",
        "XOR 곡선으로 표시 가능 \n",
        "곡선 영역을 비선형 영역\n",
        "직선 영역을 선형 영역으로 표기\n"
      ]
    }
  ]
}