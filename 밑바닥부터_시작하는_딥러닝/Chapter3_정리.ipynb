{
  "nbformat": 4,
  "nbformat_minor": 0,
  "metadata": {
    "colab": {
      "name": "Chapter3_정리.ipynb",
      "provenance": [],
      "collapsed_sections": []
    },
    "kernelspec": {
      "name": "python3",
      "display_name": "Python 3"
    },
    "language_info": {
      "name": "python"
    }
  },
  "cells": [
    {
      "cell_type": "code",
      "metadata": {
        "id": "CnODXIliJiZF"
      },
      "source": [
        "# Chapter 3"
      ],
      "execution_count": null,
      "outputs": []
    },
    {
      "cell_type": "markdown",
      "metadata": {
        "id": "eWtllSawSy1G"
      },
      "source": [
        "- 활성화 함수 : 입력 신호의 총합을 출력 신호로 변환하는 함수 \n",
        "결과값이 입력값을 받아 a로 들어가게 되고 h라는 함수를 거쳐 y 노드로 변환\n",
        "- 노드 : a의 값과 y의 값을 합쳐진 값\n",
        "- 계단 함수 : 0 ( x <= 0 ) 1 ( x > 0 ) \n",
        "- 시그모이드 함수 : h(x) 1/(1+e^-x) e = 2.7182 \n",
        "- 계단 함수는 0과 1로 값이 반환되지만 시그모이드 함수는 연속적인 실수로 표현이 가능 \n",
        "- 계단 함수와 시그모이드 함수의 공통점\n",
        "- 입력이 중요하면 계단 함수와 시그모이드 함수는 1의 큰 값을 출력\n",
        "- 비선형 함수(선형 함수는 직선으로 표시 가능 ax + b 하지만 비선형 함수는 1개의 직선으로 표현 불가능) \n",
        "- 신경망에서 활성화 함수로 비선형 함수를 활용 \n",
        "- 값이 0보다 작을 때 Relu 함수를 활용 \n",
        "- Np.dot을 활용해 행렬의 곱셈을 구할 수 있다 \n",
        "- [ 1, 2 ].transpose()\n",
        "- [ [1,3,5], [2,4,6] ] 존재할 때 \n",
        "- 스칼라곱은 1*[1,3,5] + 2*[2,4,6] = [5,11,17] 이 된다\n"
      ]
    },
    {
      "cell_type": "code",
      "metadata": {
        "id": "NWF4QfyDMdnT"
      },
      "source": [
        "def step_function(x):\n",
        "    if x > 0:\n",
        "        return 1\n",
        "    else:\n",
        "        x <= 0:\n",
        "        return 0"
      ],
      "execution_count": null,
      "outputs": []
    },
    {
      "cell_type": "markdown",
      "metadata": {
        "id": "JKB_PLeQNoqj"
      },
      "source": [
        "# **계단 함수 예시**"
      ]
    },
    {
      "cell_type": "code",
      "metadata": {
        "colab": {
          "base_uri": "https://localhost:8080/",
          "height": 264
        },
        "id": "HSomnvYlM6X5",
        "outputId": "283ede82-d0ed-4232-d8ed-02e65c69b33d"
      },
      "source": [
        "import numpy as np\n",
        "import matplotlib.pyplot as plt\n",
        "\n",
        "def step_function(x):\n",
        "    return np.array(x > 0, dtype = np.int)\n",
        "\n",
        "x = np.arange(-5.0, 5.0, 0.1)\n",
        "y = step_function(x)\n",
        "plt.plot(x,y)\n",
        "plt.ylim(-0.1, 1.1)\n",
        "plt.show()\n",
        "    "
      ],
      "execution_count": null,
      "outputs": [
        {
          "output_type": "display_data",
          "data": {
            "image/png": "[encoded data removed]",
            "text/plain": [
              "<Figure size 432x288 with 1 Axes>"
            ]
          },
          "metadata": {
            "tags": [],
            "needs_background": "light"
          }
        }
      ]
    },
    {
      "cell_type": "markdown",
      "metadata": {
        "id": "K5xEtbjiORN_"
      },
      "source": [
        "# **시그모이드 함수 예시**"
      ]
    },
    {
      "cell_type": "code",
      "metadata": {
        "colab": {
          "base_uri": "https://localhost:8080/",
          "height": 282
        },
        "id": "LtWtPbSrNMc4",
        "outputId": "66f29f6a-ec51-4c73-88d9-abd2d5acf49e"
      },
      "source": [
        "def sigmoid(x):\n",
        "    return 1/(1+ np.exp(-x))\n",
        "x = np.arange(-5.0, 5.0, 0.1)\n",
        "y = sigmoid(x)\n",
        "plt.plot(x,y)"
      ],
      "execution_count": null,
      "outputs": [
        {
          "output_type": "execute_result",
          "data": {
            "text/plain": [
              "[<matplotlib.lines.Line2D at 0x7fc4c2ace810>]"
            ]
          },
          "metadata": {
            "tags": []
          },
          "execution_count": 6
        },
        {
          "output_type": "display_data",
          "data": {
            "image/png": "[encoded data removed]",
            "text/plain": [
              "<Figure size 432x288 with 1 Axes>"
            ]
          },
          "metadata": {
            "tags": [],
            "needs_background": "light"
          }
        }
      ]
    },
    {
      "cell_type": "markdown",
      "metadata": {
        "id": "FDWzvK38PwoB"
      },
      "source": [
        "# **행렬의 곱 예시**"
      ]
    },
    {
      "cell_type": "code",
      "metadata": {
        "colab": {
          "base_uri": "https://localhost:8080/"
        },
        "id": "RoqjrafON_ja",
        "outputId": "1f18113f-3b64-4284-c786-dd4a621b3ea0"
      },
      "source": [
        "a = np.array([[1,2], [3,4]])\n",
        "b = np.array([[5,6], [7,8]])\n",
        "\n",
        "np.dot(a,b)"
      ],
      "execution_count": null,
      "outputs": [
        {
          "output_type": "execute_result",
          "data": {
            "text/plain": [
              "array([[19, 22],\n",
              "       [43, 50]])"
            ]
          },
          "metadata": {
            "tags": []
          },
          "execution_count": 9
        }
      ]
    },
    {
      "cell_type": "markdown",
      "metadata": {
        "id": "ALvY0Y-WSw5n"
      },
      "source": [
        "-\t기계학습은 분류와 회귀로 나눔\n",
        "-\t항등 함수 : 입력과 출력이 항상 같음 \n",
        "-\t소프트맥스 함수 : exp(a) / sum(exp(a))\n",
        "-\t소프트맥스 함수 구현시 e^100만 해도 0이 40개가 넘는 값을 출력 오버플로우 발생\n",
        "-\t오버플로우 막기 위해 c = np.max(a)로 두고 exp(a-c)/sum(exp(a+c))로 구현\n",
        "-\t소프트맥스 함수 총합은 1이 되며 확률로 해석 가능 \n",
        "-\tMNIST에서 사진 파일을 255로 나누어 전처리 과정을 지남 \n",
        "-\t배치를 통해서 학습 시간을 줄일 수 있음\n",
        "-\t신경망에서는 시그모이드 함수를 퍼셉트론에서는 계단 함수를 활용 \n",
        "-\t회귀에서는 항등 함수를 분류에서는 소프트맥스 함수를 활용 \n"
      ]
    }
  ]
}