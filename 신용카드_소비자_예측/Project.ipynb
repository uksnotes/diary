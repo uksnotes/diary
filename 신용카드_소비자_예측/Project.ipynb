{
 "cells": [
  {
   "cell_type": "code",
   "execution_count": 6,
   "id": "strategic-inspector",
   "metadata": {},
   "outputs": [],
   "source": [
    "import numpy as np\n",
    "import pandas as pd\n",
    "import os\n",
    "import pickle\n",
    "import matplotlib.pyplot as plt\n",
    "import seaborn as sns\n",
    "import warnings\n",
    "import statsmodels.api as sm\n",
    "from sklearn import linear_model as lm\n",
    "from sklearn.model_selection import GridSearchCV, train_test_split\n",
    "from sklearn.metrics import confusion_matrix, plot_confusion_matrix\n",
    "from sklearn import model_selection\n",
    "from sklearn.linear_model import LogisticRegression\n",
    "from sklearn.tree import DecisionTreeClassifier, plot_tree\n",
    "from sklearn.ensemble import AdaBoostClassifier, StackingClassifier\n",
    "import xgboost as xgb\n",
    "\n",
    "warnings.filterwarnings('ignore')"
   ]
  },
  {
   "cell_type": "code",
   "execution_count": 13,
   "id": "wound-treaty",
   "metadata": {},
   "outputs": [],
   "source": [
    "with open('project_data.pickle', 'rb') as f:\n",
    "    df=pickle.load(f)"
   ]
  },
  {
   "cell_type": "code",
   "execution_count": 14,
   "id": "forbidden-amazon",
   "metadata": {},
   "outputs": [],
   "source": [
    "sns.set(rc = {'axes.titlesize' : 24,\n",
    "              'axes.labelsize' : 20,\n",
    "              'xtick.labelsize': 12,\n",
    "              'ytick.labelsize': 12,\n",
    "              'figure.figsize' : (8, 4.5)})"
   ]
  },
  {
   "cell_type": "code",
   "execution_count": 15,
   "id": "married-recall",
   "metadata": {},
   "outputs": [],
   "source": [
    "df = pd.get_dummies(df)"
   ]
  },
  {
   "cell_type": "code",
   "execution_count": 16,
   "id": "aggregate-shirt",
   "metadata": {},
   "outputs": [
    {
     "data": {
      "text/html": [
       "<div>\n",
       "<style scoped>\n",
       "    .dataframe tbody tr th:only-of-type {\n",
       "        vertical-align: middle;\n",
       "    }\n",
       "\n",
       "    .dataframe tbody tr th {\n",
       "        vertical-align: top;\n",
       "    }\n",
       "\n",
       "    .dataframe thead th {\n",
       "        text-align: right;\n",
       "    }\n",
       "</style>\n",
       "<table border=\"1\" class=\"dataframe\">\n",
       "  <thead>\n",
       "    <tr style=\"text-align: right;\">\n",
       "      <th></th>\n",
       "      <th>id</th>\n",
       "      <th>cnt_children</th>\n",
       "      <th>amt_income_total</th>\n",
       "      <th>days_birth</th>\n",
       "      <th>days_employed</th>\n",
       "      <th>flag_mobil</th>\n",
       "      <th>flag_work_phone</th>\n",
       "      <th>flag_phone</th>\n",
       "      <th>flag_email</th>\n",
       "      <th>cnt_fam_members</th>\n",
       "      <th>...</th>\n",
       "      <th>occupation_type_Laborers</th>\n",
       "      <th>occupation_type_Low-skill Laborers</th>\n",
       "      <th>occupation_type_Managers</th>\n",
       "      <th>occupation_type_Medicine staff</th>\n",
       "      <th>occupation_type_Private service staff</th>\n",
       "      <th>occupation_type_Realty agents</th>\n",
       "      <th>occupation_type_Sales staff</th>\n",
       "      <th>occupation_type_Secretaries</th>\n",
       "      <th>occupation_type_Security staff</th>\n",
       "      <th>occupation_type_Waiters/barmen staff</th>\n",
       "    </tr>\n",
       "  </thead>\n",
       "  <tbody>\n",
       "    <tr>\n",
       "      <th>0</th>\n",
       "      <td>5008806</td>\n",
       "      <td>0</td>\n",
       "      <td>112500.0</td>\n",
       "      <td>-21474</td>\n",
       "      <td>-1134</td>\n",
       "      <td>1</td>\n",
       "      <td>0</td>\n",
       "      <td>0</td>\n",
       "      <td>0</td>\n",
       "      <td>2.0</td>\n",
       "      <td>...</td>\n",
       "      <td>0</td>\n",
       "      <td>0</td>\n",
       "      <td>0</td>\n",
       "      <td>0</td>\n",
       "      <td>0</td>\n",
       "      <td>0</td>\n",
       "      <td>0</td>\n",
       "      <td>0</td>\n",
       "      <td>1</td>\n",
       "      <td>0</td>\n",
       "    </tr>\n",
       "    <tr>\n",
       "      <th>1</th>\n",
       "      <td>5008808</td>\n",
       "      <td>0</td>\n",
       "      <td>270000.0</td>\n",
       "      <td>-19110</td>\n",
       "      <td>-3051</td>\n",
       "      <td>1</td>\n",
       "      <td>0</td>\n",
       "      <td>1</td>\n",
       "      <td>1</td>\n",
       "      <td>1.0</td>\n",
       "      <td>...</td>\n",
       "      <td>0</td>\n",
       "      <td>0</td>\n",
       "      <td>0</td>\n",
       "      <td>0</td>\n",
       "      <td>0</td>\n",
       "      <td>0</td>\n",
       "      <td>1</td>\n",
       "      <td>0</td>\n",
       "      <td>0</td>\n",
       "      <td>0</td>\n",
       "    </tr>\n",
       "    <tr>\n",
       "      <th>2</th>\n",
       "      <td>5008809</td>\n",
       "      <td>0</td>\n",
       "      <td>270000.0</td>\n",
       "      <td>-19110</td>\n",
       "      <td>-3051</td>\n",
       "      <td>1</td>\n",
       "      <td>0</td>\n",
       "      <td>1</td>\n",
       "      <td>1</td>\n",
       "      <td>1.0</td>\n",
       "      <td>...</td>\n",
       "      <td>0</td>\n",
       "      <td>0</td>\n",
       "      <td>0</td>\n",
       "      <td>0</td>\n",
       "      <td>0</td>\n",
       "      <td>0</td>\n",
       "      <td>1</td>\n",
       "      <td>0</td>\n",
       "      <td>0</td>\n",
       "      <td>0</td>\n",
       "    </tr>\n",
       "    <tr>\n",
       "      <th>3</th>\n",
       "      <td>5008810</td>\n",
       "      <td>0</td>\n",
       "      <td>270000.0</td>\n",
       "      <td>-19110</td>\n",
       "      <td>-3051</td>\n",
       "      <td>1</td>\n",
       "      <td>0</td>\n",
       "      <td>1</td>\n",
       "      <td>1</td>\n",
       "      <td>1.0</td>\n",
       "      <td>...</td>\n",
       "      <td>0</td>\n",
       "      <td>0</td>\n",
       "      <td>0</td>\n",
       "      <td>0</td>\n",
       "      <td>0</td>\n",
       "      <td>0</td>\n",
       "      <td>1</td>\n",
       "      <td>0</td>\n",
       "      <td>0</td>\n",
       "      <td>0</td>\n",
       "    </tr>\n",
       "    <tr>\n",
       "      <th>4</th>\n",
       "      <td>5008811</td>\n",
       "      <td>0</td>\n",
       "      <td>270000.0</td>\n",
       "      <td>-19110</td>\n",
       "      <td>-3051</td>\n",
       "      <td>1</td>\n",
       "      <td>0</td>\n",
       "      <td>1</td>\n",
       "      <td>1</td>\n",
       "      <td>1.0</td>\n",
       "      <td>...</td>\n",
       "      <td>0</td>\n",
       "      <td>0</td>\n",
       "      <td>0</td>\n",
       "      <td>0</td>\n",
       "      <td>0</td>\n",
       "      <td>0</td>\n",
       "      <td>1</td>\n",
       "      <td>0</td>\n",
       "      <td>0</td>\n",
       "      <td>0</td>\n",
       "    </tr>\n",
       "  </tbody>\n",
       "</table>\n",
       "<p>5 rows × 57 columns</p>\n",
       "</div>"
      ],
      "text/plain": [
       "        id  cnt_children  amt_income_total  days_birth  days_employed  \\\n",
       "0  5008806             0          112500.0      -21474          -1134   \n",
       "1  5008808             0          270000.0      -19110          -3051   \n",
       "2  5008809             0          270000.0      -19110          -3051   \n",
       "3  5008810             0          270000.0      -19110          -3051   \n",
       "4  5008811             0          270000.0      -19110          -3051   \n",
       "\n",
       "   flag_mobil  flag_work_phone  flag_phone  flag_email  cnt_fam_members  ...  \\\n",
       "0           1                0           0           0              2.0  ...   \n",
       "1           1                0           1           1              1.0  ...   \n",
       "2           1                0           1           1              1.0  ...   \n",
       "3           1                0           1           1              1.0  ...   \n",
       "4           1                0           1           1              1.0  ...   \n",
       "\n",
       "   occupation_type_Laborers  occupation_type_Low-skill Laborers  \\\n",
       "0                         0                                   0   \n",
       "1                         0                                   0   \n",
       "2                         0                                   0   \n",
       "3                         0                                   0   \n",
       "4                         0                                   0   \n",
       "\n",
       "   occupation_type_Managers  occupation_type_Medicine staff  \\\n",
       "0                         0                               0   \n",
       "1                         0                               0   \n",
       "2                         0                               0   \n",
       "3                         0                               0   \n",
       "4                         0                               0   \n",
       "\n",
       "   occupation_type_Private service staff  occupation_type_Realty agents  \\\n",
       "0                                      0                              0   \n",
       "1                                      0                              0   \n",
       "2                                      0                              0   \n",
       "3                                      0                              0   \n",
       "4                                      0                              0   \n",
       "\n",
       "   occupation_type_Sales staff  occupation_type_Secretaries  \\\n",
       "0                            0                            0   \n",
       "1                            1                            0   \n",
       "2                            1                            0   \n",
       "3                            1                            0   \n",
       "4                            1                            0   \n",
       "\n",
       "   occupation_type_Security staff  occupation_type_Waiters/barmen staff  \n",
       "0                               1                                     0  \n",
       "1                               0                                     0  \n",
       "2                               0                                     0  \n",
       "3                               0                                     0  \n",
       "4                               0                                     0  \n",
       "\n",
       "[5 rows x 57 columns]"
      ]
     },
     "execution_count": 16,
     "metadata": {},
     "output_type": "execute_result"
    }
   ],
   "source": [
    "df.head()"
   ]
  },
  {
   "cell_type": "code",
   "execution_count": 17,
   "id": "dressed-turtle",
   "metadata": {},
   "outputs": [
    {
     "data": {
      "text/plain": [
       "(25134, 57)"
      ]
     },
     "execution_count": 17,
     "metadata": {},
     "output_type": "execute_result"
    }
   ],
   "source": [
    "df.shape"
   ]
  },
  {
   "cell_type": "code",
   "execution_count": 18,
   "id": "serial-requirement",
   "metadata": {},
   "outputs": [
    {
     "name": "stdout",
     "output_type": "stream",
     "text": [
      "<class 'pandas.core.frame.DataFrame'>\n",
      "RangeIndex: 25134 entries, 0 to 25133\n",
      "Data columns (total 57 columns):\n",
      " #   Column                                             Non-Null Count  Dtype  \n",
      "---  ------                                             --------------  -----  \n",
      " 0   id                                                 25134 non-null  int64  \n",
      " 1   cnt_children                                       25134 non-null  int64  \n",
      " 2   amt_income_total                                   25134 non-null  float64\n",
      " 3   days_birth                                         25134 non-null  int64  \n",
      " 4   days_employed                                      25134 non-null  int64  \n",
      " 5   flag_mobil                                         25134 non-null  int64  \n",
      " 6   flag_work_phone                                    25134 non-null  int64  \n",
      " 7   flag_phone                                         25134 non-null  int64  \n",
      " 8   flag_email                                         25134 non-null  int64  \n",
      " 9   cnt_fam_members                                    25134 non-null  float64\n",
      " 10  months_balance                                     25134 non-null  int64  \n",
      " 11  status                                             25134 non-null  int64  \n",
      " 12  code_gender_F                                      25134 non-null  uint8  \n",
      " 13  code_gender_M                                      25134 non-null  uint8  \n",
      " 14  flag_own_car_N                                     25134 non-null  uint8  \n",
      " 15  flag_own_car_Y                                     25134 non-null  uint8  \n",
      " 16  flag_own_realty_N                                  25134 non-null  uint8  \n",
      " 17  flag_own_realty_Y                                  25134 non-null  uint8  \n",
      " 18  name_income_type_Commercial associate              25134 non-null  uint8  \n",
      " 19  name_income_type_Pensioner                         25134 non-null  uint8  \n",
      " 20  name_income_type_State servant                     25134 non-null  uint8  \n",
      " 21  name_income_type_Student                           25134 non-null  uint8  \n",
      " 22  name_income_type_Working                           25134 non-null  uint8  \n",
      " 23  name_education_type_Academic degree                25134 non-null  uint8  \n",
      " 24  name_education_type_Higher education               25134 non-null  uint8  \n",
      " 25  name_education_type_Incomplete higher              25134 non-null  uint8  \n",
      " 26  name_education_type_Lower secondary                25134 non-null  uint8  \n",
      " 27  name_education_type_Secondary / secondary special  25134 non-null  uint8  \n",
      " 28  name_family_status_Civil marriage                  25134 non-null  uint8  \n",
      " 29  name_family_status_Married                         25134 non-null  uint8  \n",
      " 30  name_family_status_Separated                       25134 non-null  uint8  \n",
      " 31  name_family_status_Single / not married            25134 non-null  uint8  \n",
      " 32  name_family_status_Widow                           25134 non-null  uint8  \n",
      " 33  name_housing_type_Co-op apartment                  25134 non-null  uint8  \n",
      " 34  name_housing_type_House / apartment                25134 non-null  uint8  \n",
      " 35  name_housing_type_Municipal apartment              25134 non-null  uint8  \n",
      " 36  name_housing_type_Office apartment                 25134 non-null  uint8  \n",
      " 37  name_housing_type_Rented apartment                 25134 non-null  uint8  \n",
      " 38  name_housing_type_With parents                     25134 non-null  uint8  \n",
      " 39  occupation_type_Accountants                        25134 non-null  uint8  \n",
      " 40  occupation_type_Cleaning staff                     25134 non-null  uint8  \n",
      " 41  occupation_type_Cooking staff                      25134 non-null  uint8  \n",
      " 42  occupation_type_Core staff                         25134 non-null  uint8  \n",
      " 43  occupation_type_Drivers                            25134 non-null  uint8  \n",
      " 44  occupation_type_HR staff                           25134 non-null  uint8  \n",
      " 45  occupation_type_High skill tech staff              25134 non-null  uint8  \n",
      " 46  occupation_type_IT staff                           25134 non-null  uint8  \n",
      " 47  occupation_type_Laborers                           25134 non-null  uint8  \n",
      " 48  occupation_type_Low-skill Laborers                 25134 non-null  uint8  \n",
      " 49  occupation_type_Managers                           25134 non-null  uint8  \n",
      " 50  occupation_type_Medicine staff                     25134 non-null  uint8  \n",
      " 51  occupation_type_Private service staff              25134 non-null  uint8  \n",
      " 52  occupation_type_Realty agents                      25134 non-null  uint8  \n",
      " 53  occupation_type_Sales staff                        25134 non-null  uint8  \n",
      " 54  occupation_type_Secretaries                        25134 non-null  uint8  \n",
      " 55  occupation_type_Security staff                     25134 non-null  uint8  \n",
      " 56  occupation_type_Waiters/barmen staff               25134 non-null  uint8  \n",
      "dtypes: float64(2), int64(10), uint8(45)\n",
      "memory usage: 3.4 MB\n"
     ]
    }
   ],
   "source": [
    "df.info()"
   ]
  },
  {
   "cell_type": "markdown",
   "id": "favorite-windsor",
   "metadata": {},
   "source": [
    "# EDA"
   ]
  },
  {
   "cell_type": "code",
   "execution_count": 19,
   "id": "current-reality",
   "metadata": {},
   "outputs": [
    {
     "ename": "NameError",
     "evalue": "name 'pickle5' is not defined",
     "output_type": "error",
     "traceback": [
      "\u001b[0;31m\u001b[0m",
      "\u001b[0;31mNameError\u001b[0mTraceback (most recent call last)",
      "\u001b[0;32m<ipython-input-19-ae18538c3841>\u001b[0m in \u001b[0;36m<module>\u001b[0;34m\u001b[0m\n\u001b[1;32m      1\u001b[0m \u001b[0;32mwith\u001b[0m \u001b[0mopen\u001b[0m\u001b[0;34m(\u001b[0m\u001b[0;34m'project_data.pickle'\u001b[0m\u001b[0;34m,\u001b[0m \u001b[0;34m'rb'\u001b[0m\u001b[0;34m)\u001b[0m \u001b[0;32mas\u001b[0m \u001b[0mf\u001b[0m\u001b[0;34m:\u001b[0m\u001b[0;34m\u001b[0m\u001b[0;34m\u001b[0m\u001b[0m\n\u001b[0;32m----> 2\u001b[0;31m     \u001b[0mdf\u001b[0m\u001b[0;34m=\u001b[0m\u001b[0mpickle5\u001b[0m\u001b[0;34m.\u001b[0m\u001b[0mload\u001b[0m\u001b[0;34m(\u001b[0m\u001b[0mf\u001b[0m\u001b[0;34m)\u001b[0m\u001b[0;34m\u001b[0m\u001b[0;34m\u001b[0m\u001b[0m\n\u001b[0m",
      "\u001b[0;31mNameError\u001b[0m: name 'pickle5' is not defined"
     ]
    }
   ],
   "source": [
    "with open('project_data.pickle', 'rb') as f:\n",
    "    df=pickle5.load(f)"
   ]
  },
  {
   "cell_type": "code",
   "execution_count": null,
   "id": "published-disability",
   "metadata": {},
   "outputs": [],
   "source": [
    "plt.hist(df['status'], bins = 2)\n",
    "plt.title('Status')\n",
    "plt.semilogy()\n",
    "plt.xlabel('Status')"
   ]
  },
  {
   "cell_type": "markdown",
   "id": "neither-keeping",
   "metadata": {},
   "source": [
    "We should care more on the sensitivity than the accuracy because we are dealing with the unbalanced dataset. Even though the sensitivity is high because good client(status = 0) is nearly 99% of the dataset, the accuracy of the model can be not high as the sensitivity.  "
   ]
  },
  {
   "cell_type": "markdown",
   "id": "geographic-producer",
   "metadata": {},
   "source": [
    "### Feature Transformations"
   ]
  },
  {
   "cell_type": "code",
   "execution_count": 20,
   "id": "flying-delight",
   "metadata": {},
   "outputs": [
    {
     "data": {
      "text/plain": [
       "<seaborn.axisgrid.PairGrid at 0x7f9d9d6ca350>"
      ]
     },
     "execution_count": 20,
     "metadata": {},
     "output_type": "execute_result"
    },
    {
     "data": {
      "image/png": "[encoded data removed]",
      "text/plain": [
       "<Figure size 576x432 with 6 Axes>"
      ]
     },
     "metadata": {},
     "output_type": "display_data"
    },
    {
     "data": {
      "image/png": "[encoded data removed]",
      "text/plain": [
       "<Figure size 180x180 with 1 Axes>"
      ]
     },
     "metadata": {},
     "output_type": "display_data"
    }
   ],
   "source": [
    "plt.figure(figsize = (8,6))\n",
    "\n",
    "plt.subplot(3, 2, 1) \n",
    "plt.hist(df['days_birth'], bins = 50, label = 'days_birth' )\n",
    "plt.title('Days_birth Plot')\n",
    "plt.xlabel('Days_birth')\n",
    "\n",
    "df['age'] = df['days_birth']/-365\n",
    "plt.subplot(3, 2, 2) \n",
    "plt.hist(df['age'], bins = 50, label = 'Age')\n",
    "plt.title('Age Plot')\n",
    "plt.xlabel('Age')\n",
    "\n",
    "plt.subplot(3, 2, 3)\n",
    "plt.hist(df['days_employed'], bins = 50, label = 'days_employed')\n",
    "plt.title('Days_employed Plot')\n",
    "plt.xlabel('Days_employed')\n",
    "\n",
    "df['year_employed'] = df['days_employed']/365\n",
    "plt.subplot(3, 2, 4) \n",
    "plt.hist(df['year_employed'], bins = 10, label = 'Year_employed')\n",
    "plt.title('Year_employed Plot')\n",
    "plt.xlabel('Year_employed')\n",
    "\n",
    "\n",
    "plt.subplot(3, 2, 5)\n",
    "plt.hist(df['amt_income_total'], bins = 50, label = 'Amt_income_total')\n",
    "plt.title('Amt_income_total Plot')\n",
    "plt.xlabel('Amt_income_total')\n",
    "\n",
    "df['log_amt_income_total'] = np.log(df.amt_income_total)\n",
    "plt.subplot(3, 2, 6) \n",
    "plt.hist(df['log_amt_income_total'], bins = 50, label = 'log_amt_income_total')\n",
    "plt.title('Log_income_total Plot')\n",
    "plt.xlabel('Log_amt_income_total')\n",
    "\n",
    "plt.tight_layout()\n",
    "\n",
    "## pairplot\n",
    "sns.pairplot(df, x_vars = 'status', y_vars = 'age', kind = 'hist', diag_kws={'bins': 10})"
   ]
  },
  {
   "cell_type": "markdown",
   "id": "interesting-evanescence",
   "metadata": {},
   "source": [
    "### Feature vs Label Plots"
   ]
  },
  {
   "cell_type": "markdown",
   "id": "raising-ghost",
   "metadata": {},
   "source": [
    "### Figure 1 "
   ]
  },
  {
   "cell_type": "code",
   "execution_count": 21,
   "id": "attractive-spyware",
   "metadata": {},
   "outputs": [
    {
     "data": {
      "text/plain": [
       "<seaborn.axisgrid.PairGrid at 0x7f9d9d4ee290>"
      ]
     },
     "execution_count": 21,
     "metadata": {},
     "output_type": "execute_result"
    },
    {
     "data": {
      "image/png": "[encoded data removed]",
      "text/plain": [
       "<Figure size 180x180 with 1 Axes>"
      ]
     },
     "metadata": {},
     "output_type": "display_data"
    }
   ],
   "source": [
    "sns.pairplot(df, x_vars = 'status', y_vars = 'days_employed', kind = 'hist', diag_kws={'bins': 10})"
   ]
  },
  {
   "cell_type": "markdown",
   "id": "bright-notebook",
   "metadata": {},
   "source": [
    "The dataset is unbalanced so it was hard to see relationship between status and the days_employed."
   ]
  },
  {
   "cell_type": "markdown",
   "id": "flush-anthropology",
   "metadata": {},
   "source": [
    "### Figure 2"
   ]
  },
  {
   "cell_type": "code",
   "execution_count": 22,
   "id": "actual-judge",
   "metadata": {},
   "outputs": [
    {
     "ename": "KeyError",
     "evalue": "'code_gender'",
     "output_type": "error",
     "traceback": [
      "\u001b[0;31m\u001b[0m",
      "\u001b[0;31mKeyError\u001b[0mTraceback (most recent call last)",
      "\u001b[0;32m/opt/conda/lib/python3.7/site-packages/pandas/core/indexes/base.py\u001b[0m in \u001b[0;36mget_loc\u001b[0;34m(self, key, method, tolerance)\u001b[0m\n\u001b[1;32m   2897\u001b[0m             \u001b[0;32mtry\u001b[0m\u001b[0;34m:\u001b[0m\u001b[0;34m\u001b[0m\u001b[0;34m\u001b[0m\u001b[0m\n\u001b[0;32m-> 2898\u001b[0;31m                 \u001b[0;32mreturn\u001b[0m \u001b[0mself\u001b[0m\u001b[0;34m.\u001b[0m\u001b[0m_engine\u001b[0m\u001b[0;34m.\u001b[0m\u001b[0mget_loc\u001b[0m\u001b[0;34m(\u001b[0m\u001b[0mcasted_key\u001b[0m\u001b[0;34m)\u001b[0m\u001b[0;34m\u001b[0m\u001b[0;34m\u001b[0m\u001b[0m\n\u001b[0m\u001b[1;32m   2899\u001b[0m             \u001b[0;32mexcept\u001b[0m \u001b[0mKeyError\u001b[0m \u001b[0;32mas\u001b[0m \u001b[0merr\u001b[0m\u001b[0;34m:\u001b[0m\u001b[0;34m\u001b[0m\u001b[0;34m\u001b[0m\u001b[0m\n",
      "\u001b[0;32mpandas/_libs/index.pyx\u001b[0m in \u001b[0;36mpandas._libs.index.IndexEngine.get_loc\u001b[0;34m()\u001b[0m\n",
      "\u001b[0;32mpandas/_libs/index.pyx\u001b[0m in \u001b[0;36mpandas._libs.index.IndexEngine.get_loc\u001b[0;34m()\u001b[0m\n",
      "\u001b[0;32mpandas/_libs/hashtable_class_helper.pxi\u001b[0m in \u001b[0;36mpandas._libs.hashtable.PyObjectHashTable.get_item\u001b[0;34m()\u001b[0m\n",
      "\u001b[0;32mpandas/_libs/hashtable_class_helper.pxi\u001b[0m in \u001b[0;36mpandas._libs.hashtable.PyObjectHashTable.get_item\u001b[0;34m()\u001b[0m\n",
      "\u001b[0;31mKeyError\u001b[0m: 'code_gender'",
      "\nThe above exception was the direct cause of the following exception:\n",
      "\u001b[0;31mKeyError\u001b[0mTraceback (most recent call last)",
      "\u001b[0;32m<ipython-input-22-1d6c02564101>\u001b[0m in \u001b[0;36m<module>\u001b[0;34m\u001b[0m\n\u001b[1;32m      2\u001b[0m \u001b[0;34m\u001b[0m\u001b[0m\n\u001b[1;32m      3\u001b[0m \u001b[0mplt\u001b[0m\u001b[0;34m.\u001b[0m\u001b[0msubplot\u001b[0m\u001b[0;34m(\u001b[0m\u001b[0;36m1\u001b[0m\u001b[0;34m,\u001b[0m \u001b[0;36m2\u001b[0m\u001b[0;34m,\u001b[0m \u001b[0;36m1\u001b[0m\u001b[0;34m)\u001b[0m\u001b[0;34m\u001b[0m\u001b[0;34m\u001b[0m\u001b[0m\n\u001b[0;32m----> 4\u001b[0;31m \u001b[0ma\u001b[0m \u001b[0;34m=\u001b[0m \u001b[0msns\u001b[0m\u001b[0;34m.\u001b[0m\u001b[0mbarplot\u001b[0m\u001b[0;34m(\u001b[0m\u001b[0mx\u001b[0m \u001b[0;34m=\u001b[0m \u001b[0mdf\u001b[0m\u001b[0;34m[\u001b[0m\u001b[0;34m'status'\u001b[0m\u001b[0;34m]\u001b[0m\u001b[0;34m,\u001b[0m \u001b[0my\u001b[0m \u001b[0;34m=\u001b[0m \u001b[0mdf\u001b[0m\u001b[0;34m[\u001b[0m\u001b[0;34m'cnt_fam_members'\u001b[0m\u001b[0;34m]\u001b[0m\u001b[0;34m,\u001b[0m \u001b[0mhue\u001b[0m \u001b[0;34m=\u001b[0m \u001b[0mdf\u001b[0m\u001b[0;34m[\u001b[0m\u001b[0;34m'code_gender'\u001b[0m\u001b[0;34m]\u001b[0m\u001b[0;34m,\u001b[0m \u001b[0;34m)\u001b[0m\u001b[0;34m\u001b[0m\u001b[0;34m\u001b[0m\u001b[0m\n\u001b[0m\u001b[1;32m      5\u001b[0m \u001b[0ma\u001b[0m\u001b[0;34m.\u001b[0m\u001b[0maxes\u001b[0m\u001b[0;34m.\u001b[0m\u001b[0mset_title\u001b[0m\u001b[0;34m(\u001b[0m\u001b[0;34m'Status vs Cnt_fam_members Plot'\u001b[0m\u001b[0;34m,\u001b[0m \u001b[0mfontsize\u001b[0m \u001b[0;34m=\u001b[0m \u001b[0;36m15\u001b[0m\u001b[0;34m)\u001b[0m\u001b[0;34m\u001b[0m\u001b[0;34m\u001b[0m\u001b[0m\n\u001b[1;32m      6\u001b[0m \u001b[0ma\u001b[0m\u001b[0;34m.\u001b[0m\u001b[0mset_xlabel\u001b[0m\u001b[0;34m(\u001b[0m\u001b[0;34m'Status'\u001b[0m\u001b[0;34m,\u001b[0m \u001b[0mfontsize\u001b[0m \u001b[0;34m=\u001b[0m \u001b[0;36m12\u001b[0m\u001b[0;34m)\u001b[0m\u001b[0;34m\u001b[0m\u001b[0;34m\u001b[0m\u001b[0m\n",
      "\u001b[0;32m/opt/conda/lib/python3.7/site-packages/pandas/core/frame.py\u001b[0m in \u001b[0;36m__getitem__\u001b[0;34m(self, key)\u001b[0m\n\u001b[1;32m   2904\u001b[0m             \u001b[0;32mif\u001b[0m \u001b[0mself\u001b[0m\u001b[0;34m.\u001b[0m\u001b[0mcolumns\u001b[0m\u001b[0;34m.\u001b[0m\u001b[0mnlevels\u001b[0m \u001b[0;34m>\u001b[0m \u001b[0;36m1\u001b[0m\u001b[0;34m:\u001b[0m\u001b[0;34m\u001b[0m\u001b[0;34m\u001b[0m\u001b[0m\n\u001b[1;32m   2905\u001b[0m                 \u001b[0;32mreturn\u001b[0m \u001b[0mself\u001b[0m\u001b[0;34m.\u001b[0m\u001b[0m_getitem_multilevel\u001b[0m\u001b[0;34m(\u001b[0m\u001b[0mkey\u001b[0m\u001b[0;34m)\u001b[0m\u001b[0;34m\u001b[0m\u001b[0;34m\u001b[0m\u001b[0m\n\u001b[0;32m-> 2906\u001b[0;31m             \u001b[0mindexer\u001b[0m \u001b[0;34m=\u001b[0m \u001b[0mself\u001b[0m\u001b[0;34m.\u001b[0m\u001b[0mcolumns\u001b[0m\u001b[0;34m.\u001b[0m\u001b[0mget_loc\u001b[0m\u001b[0;34m(\u001b[0m\u001b[0mkey\u001b[0m\u001b[0;34m)\u001b[0m\u001b[0;34m\u001b[0m\u001b[0;34m\u001b[0m\u001b[0m\n\u001b[0m\u001b[1;32m   2907\u001b[0m             \u001b[0;32mif\u001b[0m \u001b[0mis_integer\u001b[0m\u001b[0;34m(\u001b[0m\u001b[0mindexer\u001b[0m\u001b[0;34m)\u001b[0m\u001b[0;34m:\u001b[0m\u001b[0;34m\u001b[0m\u001b[0;34m\u001b[0m\u001b[0m\n\u001b[1;32m   2908\u001b[0m                 \u001b[0mindexer\u001b[0m \u001b[0;34m=\u001b[0m \u001b[0;34m[\u001b[0m\u001b[0mindexer\u001b[0m\u001b[0;34m]\u001b[0m\u001b[0;34m\u001b[0m\u001b[0;34m\u001b[0m\u001b[0m\n",
      "\u001b[0;32m/opt/conda/lib/python3.7/site-packages/pandas/core/indexes/base.py\u001b[0m in \u001b[0;36mget_loc\u001b[0;34m(self, key, method, tolerance)\u001b[0m\n\u001b[1;32m   2898\u001b[0m                 \u001b[0;32mreturn\u001b[0m \u001b[0mself\u001b[0m\u001b[0;34m.\u001b[0m\u001b[0m_engine\u001b[0m\u001b[0;34m.\u001b[0m\u001b[0mget_loc\u001b[0m\u001b[0;34m(\u001b[0m\u001b[0mcasted_key\u001b[0m\u001b[0;34m)\u001b[0m\u001b[0;34m\u001b[0m\u001b[0;34m\u001b[0m\u001b[0m\n\u001b[1;32m   2899\u001b[0m             \u001b[0;32mexcept\u001b[0m \u001b[0mKeyError\u001b[0m \u001b[0;32mas\u001b[0m \u001b[0merr\u001b[0m\u001b[0;34m:\u001b[0m\u001b[0;34m\u001b[0m\u001b[0;34m\u001b[0m\u001b[0m\n\u001b[0;32m-> 2900\u001b[0;31m                 \u001b[0;32mraise\u001b[0m \u001b[0mKeyError\u001b[0m\u001b[0;34m(\u001b[0m\u001b[0mkey\u001b[0m\u001b[0;34m)\u001b[0m \u001b[0;32mfrom\u001b[0m \u001b[0merr\u001b[0m\u001b[0;34m\u001b[0m\u001b[0;34m\u001b[0m\u001b[0m\n\u001b[0m\u001b[1;32m   2901\u001b[0m \u001b[0;34m\u001b[0m\u001b[0m\n\u001b[1;32m   2902\u001b[0m         \u001b[0;32mif\u001b[0m \u001b[0mtolerance\u001b[0m \u001b[0;32mis\u001b[0m \u001b[0;32mnot\u001b[0m \u001b[0;32mNone\u001b[0m\u001b[0;34m:\u001b[0m\u001b[0;34m\u001b[0m\u001b[0;34m\u001b[0m\u001b[0m\n",
      "\u001b[0;31mKeyError\u001b[0m: 'code_gender'"
     ]
    },
    {
     "data": {
      "image/png": "[encoded data removed]",
      "text/plain": [
       "<Figure size 576x432 with 1 Axes>"
      ]
     },
     "metadata": {},
     "output_type": "display_data"
    }
   ],
   "source": [
    "plt.figure(figsize = (8,6))\n",
    "\n",
    "plt.subplot(1, 2, 1)\n",
    "a = sns.barplot(x = df['status'], y = df['cnt_fam_members'], hue = df['code_gender'], )\n",
    "a.axes.set_title('Status vs Cnt_fam_members Plot', fontsize = 15)\n",
    "a.set_xlabel('Status', fontsize = 12)\n",
    "a.set_ylabel('Cnt_fam_members',fontsize= 12)\n",
    "\n",
    "plt.subplot(1, 2, 2)\n",
    "b = sns.violinplot(x = df['status'], y = df['age'])\n",
    "b.axes.set_title('Status vs Age Plot', fontsize = 15)\n",
    "b.set_xlabel('Status', fontsize = 12)\n",
    "b.set_ylabel('Age', fontsize = 12)\n"
   ]
  },
  {
   "cell_type": "markdown",
   "id": "spare-venezuela",
   "metadata": {},
   "source": [
    "In the barplot, the male of both status of 0 and 1 has higher cnt_fam_members than the female cnt_fam_members. For the age vs status graph, maximum age of female is higher than the age of males."
   ]
  },
  {
   "cell_type": "markdown",
   "id": "geographic-purchase",
   "metadata": {},
   "source": [
    "# Inference"
   ]
  },
  {
   "cell_type": "code",
   "execution_count": 23,
   "id": "adequate-contrast",
   "metadata": {},
   "outputs": [],
   "source": [
    "df = pd.get_dummies(df)\n",
    "df = df.drop(['flag_own_car_N', 'days_birth', 'flag_own_realty_N', 'flag_mobil'], axis = 1)"
   ]
  },
  {
   "cell_type": "code",
   "execution_count": 24,
   "id": "republican-acoustic",
   "metadata": {},
   "outputs": [],
   "source": [
    "df = pd.get_dummies(df)\n",
    "df = df.set_index(['id'])"
   ]
  },
  {
   "cell_type": "code",
   "execution_count": 25,
   "id": "muslim-fever",
   "metadata": {},
   "outputs": [],
   "source": [
    "y = df['status']\n",
    "x = df.drop(columns = 'status')\n",
    "x_train, x_test, y_train, y_test = train_test_split(x, y, train_size = 0.2, random_state = 490, stratify = y)\n",
    "x_train_std_new = x_train.apply(lambda x: (x - np.mean(x))/np.std(x), axis = 0)\n",
    "x_test_std_new  = x_test.apply(lambda x: (x - np.mean(x))/np.std(x), axis = 0)\n",
    "x_train_std_new = sm.add_constant(x_train_std_new)\n",
    "x_test_std_new  = sm.add_constant(x_test_std_new)"
   ]
  },
  {
   "cell_type": "code",
   "execution_count": 26,
   "id": "southwest-boutique",
   "metadata": {},
   "outputs": [
    {
     "name": "stdout",
     "output_type": "stream",
     "text": [
      "{'alpha': 0.01}\n"
     ]
    },
    {
     "data": {
      "text/plain": [
       "0.01"
      ]
     },
     "execution_count": 26,
     "metadata": {},
     "output_type": "execute_result"
    }
   ],
   "source": [
    "param_grid = [\n",
    "    {'alpha': 10**np.linspace(-2, 2, num = 20)}\n",
    "]\n",
    "cv_lasso = lm.Lasso(fit_intercept = False, normalize = False,\n",
    "                    random_state = 490)\n",
    "grid_search = GridSearchCV(cv_lasso, param_grid, cv = 5,\n",
    "                           scoring = 'accuracy')\n",
    "grid_search.fit(x_train_std_new, y_train)\n",
    "print(grid_search.best_params_)\n",
    "best = grid_search.best_params_['alpha']\n",
    "best"
   ]
  },
  {
   "cell_type": "code",
   "execution_count": 67,
   "id": "short-trail",
   "metadata": {},
   "outputs": [
    {
     "ename": "ValueError",
     "evalue": "Parameter grid for parameter (alpha) needs to be a list or numpy array, but got (<class 'float'>). Single values need to be wrapped in a list with one element.",
     "output_type": "error",
     "traceback": [
      "\u001b[0;31m\u001b[0m",
      "\u001b[0;31mValueError\u001b[0mTraceback (most recent call last)",
      "\u001b[0;32m<ipython-input-67-301217c5eb85>\u001b[0m in \u001b[0;36m<module>\u001b[0;34m\u001b[0m\n\u001b[1;32m      5\u001b[0m                     random_state = 490)\n\u001b[1;32m      6\u001b[0m grid_search = GridSearchCV(cv_lasso, param_grid, cv = 5,\n\u001b[0;32m----> 7\u001b[0;31m                            scoring = 'accuracy')\n\u001b[0m\u001b[1;32m      8\u001b[0m \u001b[0mgrid_search\u001b[0m\u001b[0;34m.\u001b[0m\u001b[0mfit\u001b[0m\u001b[0;34m(\u001b[0m\u001b[0mx_train_std_new\u001b[0m\u001b[0;34m,\u001b[0m \u001b[0my_train\u001b[0m\u001b[0;34m)\u001b[0m\u001b[0;34m\u001b[0m\u001b[0;34m\u001b[0m\u001b[0m\n\u001b[1;32m      9\u001b[0m \u001b[0mprint\u001b[0m\u001b[0;34m(\u001b[0m\u001b[0mgrid_search\u001b[0m\u001b[0;34m.\u001b[0m\u001b[0mbest_params_\u001b[0m\u001b[0;34m)\u001b[0m\u001b[0;34m\u001b[0m\u001b[0;34m\u001b[0m\u001b[0m\n",
      "\u001b[0;32m/opt/conda/lib/python3.7/site-packages/sklearn/utils/validation.py\u001b[0m in \u001b[0;36minner_f\u001b[0;34m(*args, **kwargs)\u001b[0m\n\u001b[1;32m     61\u001b[0m             \u001b[0mextra_args\u001b[0m \u001b[0;34m=\u001b[0m \u001b[0mlen\u001b[0m\u001b[0;34m(\u001b[0m\u001b[0margs\u001b[0m\u001b[0;34m)\u001b[0m \u001b[0;34m-\u001b[0m \u001b[0mlen\u001b[0m\u001b[0;34m(\u001b[0m\u001b[0mall_args\u001b[0m\u001b[0;34m)\u001b[0m\u001b[0;34m\u001b[0m\u001b[0;34m\u001b[0m\u001b[0m\n\u001b[1;32m     62\u001b[0m             \u001b[0;32mif\u001b[0m \u001b[0mextra_args\u001b[0m \u001b[0;34m<=\u001b[0m \u001b[0;36m0\u001b[0m\u001b[0;34m:\u001b[0m\u001b[0;34m\u001b[0m\u001b[0;34m\u001b[0m\u001b[0m\n\u001b[0;32m---> 63\u001b[0;31m                 \u001b[0;32mreturn\u001b[0m \u001b[0mf\u001b[0m\u001b[0;34m(\u001b[0m\u001b[0;34m*\u001b[0m\u001b[0margs\u001b[0m\u001b[0;34m,\u001b[0m \u001b[0;34m**\u001b[0m\u001b[0mkwargs\u001b[0m\u001b[0;34m)\u001b[0m\u001b[0;34m\u001b[0m\u001b[0;34m\u001b[0m\u001b[0m\n\u001b[0m\u001b[1;32m     64\u001b[0m \u001b[0;34m\u001b[0m\u001b[0m\n\u001b[1;32m     65\u001b[0m             \u001b[0;31m# extra_args > 0\u001b[0m\u001b[0;34m\u001b[0m\u001b[0;34m\u001b[0m\u001b[0;34m\u001b[0m\u001b[0m\n",
      "\u001b[0;32m/opt/conda/lib/python3.7/site-packages/sklearn/model_selection/_search.py\u001b[0m in \u001b[0;36m__init__\u001b[0;34m(self, estimator, param_grid, scoring, n_jobs, refit, cv, verbose, pre_dispatch, error_score, return_train_score)\u001b[0m\n\u001b[1;32m   1290\u001b[0m             return_train_score=return_train_score)\n\u001b[1;32m   1291\u001b[0m         \u001b[0mself\u001b[0m\u001b[0;34m.\u001b[0m\u001b[0mparam_grid\u001b[0m \u001b[0;34m=\u001b[0m \u001b[0mparam_grid\u001b[0m\u001b[0;34m\u001b[0m\u001b[0;34m\u001b[0m\u001b[0m\n\u001b[0;32m-> 1292\u001b[0;31m         \u001b[0m_check_param_grid\u001b[0m\u001b[0;34m(\u001b[0m\u001b[0mparam_grid\u001b[0m\u001b[0;34m)\u001b[0m\u001b[0;34m\u001b[0m\u001b[0;34m\u001b[0m\u001b[0m\n\u001b[0m\u001b[1;32m   1293\u001b[0m \u001b[0;34m\u001b[0m\u001b[0m\n\u001b[1;32m   1294\u001b[0m     \u001b[0;32mdef\u001b[0m \u001b[0m_run_search\u001b[0m\u001b[0;34m(\u001b[0m\u001b[0mself\u001b[0m\u001b[0;34m,\u001b[0m \u001b[0mevaluate_candidates\u001b[0m\u001b[0;34m)\u001b[0m\u001b[0;34m:\u001b[0m\u001b[0;34m\u001b[0m\u001b[0;34m\u001b[0m\u001b[0m\n",
      "\u001b[0;32m/opt/conda/lib/python3.7/site-packages/sklearn/model_selection/_search.py\u001b[0m in \u001b[0;36m_check_param_grid\u001b[0;34m(param_grid)\u001b[0m\n\u001b[1;32m    401\u001b[0m                                  \u001b[0;34m\" be a list or numpy array, but got ({1}).\"\u001b[0m\u001b[0;34m\u001b[0m\u001b[0;34m\u001b[0m\u001b[0m\n\u001b[1;32m    402\u001b[0m                                  \u001b[0;34m\" Single values need to be wrapped in a list\"\u001b[0m\u001b[0;34m\u001b[0m\u001b[0;34m\u001b[0m\u001b[0m\n\u001b[0;32m--> 403\u001b[0;31m                                  \" with one element.\".format(name, type(v)))\n\u001b[0m\u001b[1;32m    404\u001b[0m \u001b[0;34m\u001b[0m\u001b[0m\n\u001b[1;32m    405\u001b[0m             \u001b[0;32mif\u001b[0m \u001b[0mlen\u001b[0m\u001b[0;34m(\u001b[0m\u001b[0mv\u001b[0m\u001b[0;34m)\u001b[0m \u001b[0;34m==\u001b[0m \u001b[0;36m0\u001b[0m\u001b[0;34m:\u001b[0m\u001b[0;34m\u001b[0m\u001b[0;34m\u001b[0m\u001b[0m\n",
      "\u001b[0;31mValueError\u001b[0m: Parameter grid for parameter (alpha) needs to be a list or numpy array, but got (<class 'float'>). Single values need to be wrapped in a list with one element."
     ]
    }
   ],
   "source": [
    "param_grid = [\n",
    "    {'alpha': 10**(-1) } \n",
    "     ]\n",
    "\n",
    "cv_lasso = lm.Lasso(fit_intercept = False, normalize = False,\n",
    "                    random_state = 490)\n",
    "grid_search = GridSearchCV(cv_lasso, param_grid, cv = 5,\n",
    "                           scoring = 'accuracy')\n",
    "grid_search.fit(x_train_std_new, y_train)\n",
    "print(grid_search.best_params_)\n",
    "best = grid_search.best_params_['alpha']\n",
    "best"
   ]
  },
  {
   "cell_type": "code",
   "execution_count": 27,
   "id": "radical-sally",
   "metadata": {
    "scrolled": true
   },
   "outputs": [
    {
     "name": "stdout",
     "output_type": "stream",
     "text": [
      "Optimization terminated successfully    (Exit mode 0)\n",
      "            Current function value: 0.00015869159883026706\n",
      "            Iterations: 706\n",
      "            Function evaluations: 707\n",
      "            Gradient evaluations: 706\n"
     ]
    },
    {
     "data": {
      "text/html": [
       "<table class=\"simpletable\">\n",
       "<tr>\n",
       "        <td>Model:</td>              <td>Logit</td>      <td>Pseudo R-squared:</td>   <td>0.985</td> \n",
       "</tr>\n",
       "<tr>\n",
       "  <td>Dependent Variable:</td>      <td>status</td>            <td>AIC:</td>        <td>110.2860</td>\n",
       "</tr>\n",
       "<tr>\n",
       "         <td>Date:</td>        <td>2021-08-24 11:22</td>       <td>BIC:</td>        <td>469.0169</td>\n",
       "</tr>\n",
       "<tr>\n",
       "   <td>No. Observations:</td>        <td>5026</td>        <td>Log-Likelihood:</td>  <td>-0.14298</td>\n",
       "</tr>\n",
       "<tr>\n",
       "       <td>Df Model:</td>             <td>54</td>            <td>LL-Null:</td>       <td>-9.5223</td>\n",
       "</tr>\n",
       "<tr>\n",
       "     <td>Df Residuals:</td>          <td>4971</td>         <td>LLR p-value:</td>     <td>1.0000</td> \n",
       "</tr>\n",
       "<tr>\n",
       "      <td>Converged:</td>           <td>1.0000</td>           <td>Scale:</td>        <td>1.0000</td> \n",
       "</tr>\n",
       "<tr>\n",
       "    <td>No. Iterations:</td>       <td>706.0000</td>             <td></td>              <td></td>    \n",
       "</tr>\n",
       "</table>\n",
       "<table class=\"simpletable\">\n",
       "<tr>\n",
       "                          <td></td>                            <th>Coef.</th>     <th>Std.Err.</th>       <th>z</th>     <th>P>|z|</th>      <th>[0.025</th>          <th>0.975]</th>     \n",
       "</tr>\n",
       "<tr>\n",
       "  <th>const</th>                                             <td>-28.3118</td>    <td>1711.9699</td>   <td>-0.0165</td> <td>0.9868</td>    <td>-3383.7112</td>       <td>3327.0876</td>   \n",
       "</tr>\n",
       "<tr>\n",
       "  <th>cnt_children</th>                                       <td>-2.0892</td>    <td>2786.8554</td>   <td>-0.0007</td> <td>0.9994</td>    <td>-5464.2254</td>       <td>5460.0470</td>   \n",
       "</tr>\n",
       "<tr>\n",
       "  <th>amt_income_total</th>                                   <td>0.0000</td>      <td>26.5197</td>    <td>0.0000</td>  <td>1.0000</td>     <td>-51.9777</td>         <td>51.9777</td>    \n",
       "</tr>\n",
       "<tr>\n",
       "  <th>days_employed</th>                                      <td>2.2312</td>  <td>599804349.5821</td> <td>0.0000</td>  <td>1.0000</td> <td>-1175594920.7201</td> <td>1175594925.1825</td>\n",
       "</tr>\n",
       "<tr>\n",
       "  <th>flag_work_phone</th>                                    <td>-1.2749</td>     <td>9.5235</td>     <td>-0.1339</td> <td>0.8935</td>     <td>-19.9405</td>         <td>17.3908</td>    \n",
       "</tr>\n",
       "<tr>\n",
       "  <th>flag_phone</th>                                         <td>-1.1429</td>     <td>8.7444</td>     <td>-0.1307</td> <td>0.8960</td>     <td>-18.2816</td>         <td>15.9959</td>    \n",
       "</tr>\n",
       "<tr>\n",
       "  <th>flag_email</th>                                         <td>-0.6315</td>     <td>8.5489</td>     <td>-0.0739</td> <td>0.9411</td>     <td>-17.3870</td>         <td>16.1240</td>    \n",
       "</tr>\n",
       "<tr>\n",
       "  <th>cnt_fam_members</th>                                    <td>-0.4482</td>    <td>3385.5461</td>   <td>-0.0001</td> <td>0.9999</td>    <td>-6635.9967</td>       <td>6635.1003</td>   \n",
       "</tr>\n",
       "<tr>\n",
       "  <th>months_balance</th>                                     <td>-2.6998</td>     <td>4.8149</td>     <td>-0.5607</td> <td>0.5750</td>     <td>-12.1369</td>         <td>6.7373</td>     \n",
       "</tr>\n",
       "<tr>\n",
       "  <th>code_gender_F</th>                                      <td>1.1656</td>        <td>nan</td>        <td>nan</td>     <td>nan</td>         <td>nan</td>             <td>nan</td>      \n",
       "</tr>\n",
       "<tr>\n",
       "  <th>code_gender_M</th>                                      <td>-1.1656</td>       <td>nan</td>        <td>nan</td>     <td>nan</td>         <td>nan</td>             <td>nan</td>      \n",
       "</tr>\n",
       "<tr>\n",
       "  <th>flag_own_car_Y</th>                                     <td>-4.6204</td>     <td>8.1198</td>     <td>-0.5690</td> <td>0.5693</td>     <td>-20.5348</td>         <td>11.2941</td>    \n",
       "</tr>\n",
       "<tr>\n",
       "  <th>flag_own_realty_Y</th>                                  <td>1.6467</td>      <td>9.5749</td>     <td>0.1720</td>  <td>0.8635</td>     <td>-17.1198</td>         <td>20.4132</td>    \n",
       "</tr>\n",
       "<tr>\n",
       "  <th>name_income_type_Commercial associate</th>              <td>-0.4962</td>       <td>nan</td>        <td>nan</td>     <td>nan</td>         <td>nan</td>             <td>nan</td>      \n",
       "</tr>\n",
       "<tr>\n",
       "  <th>name_income_type_Pensioner</th>                         <td>-0.0000</td>       <td>nan</td>        <td>nan</td>     <td>nan</td>         <td>nan</td>             <td>nan</td>      \n",
       "</tr>\n",
       "<tr>\n",
       "  <th>name_income_type_State servant</th>                     <td>-0.0394</td>       <td>nan</td>        <td>nan</td>     <td>nan</td>         <td>nan</td>             <td>nan</td>      \n",
       "</tr>\n",
       "<tr>\n",
       "  <th>name_income_type_Student</th>                           <td>-0.0000</td>       <td>nan</td>        <td>nan</td>     <td>nan</td>         <td>nan</td>             <td>nan</td>      \n",
       "</tr>\n",
       "<tr>\n",
       "  <th>name_income_type_Working</th>                           <td>0.8357</td>        <td>nan</td>        <td>nan</td>     <td>nan</td>         <td>nan</td>             <td>nan</td>      \n",
       "</tr>\n",
       "<tr>\n",
       "  <th>name_education_type_Academic degree</th>                <td>-0.0000</td>  <td>5064219.5385</td>  <td>-0.0000</td> <td>1.0000</td>   <td>-9925687.9052</td>   <td>9925687.9052</td>  \n",
       "</tr>\n",
       "<tr>\n",
       "  <th>name_education_type_Higher education</th>               <td>2.2454</td>   <td>72448049.9111</td> <td>0.0000</td>  <td>1.0000</td>  <td>-141995566.3306</td> <td>141995570.8214</td> \n",
       "</tr>\n",
       "<tr>\n",
       "  <th>name_education_type_Incomplete higher</th>              <td>-0.0000</td>  <td>31829505.1694</td> <td>-0.0000</td> <td>1.0000</td>  <td>-62384683.7778</td>   <td>62384683.7778</td> \n",
       "</tr>\n",
       "<tr>\n",
       "  <th>name_education_type_Lower secondary</th>                <td>0.0000</td>   <td>14680075.1013</td> <td>0.0000</td>  <td>1.0000</td>  <td>-28772418.4889</td>   <td>28772418.4889</td> \n",
       "</tr>\n",
       "<tr>\n",
       "  <th>name_education_type_Secondary / secondary special</th>  <td>-1.9517</td>  <td>74246052.0634</td> <td>-0.0000</td> <td>1.0000</td>  <td>-145519589.9902</td> <td>145519586.0868</td> \n",
       "</tr>\n",
       "<tr>\n",
       "  <th>name_family_status_Civil marriage</th>                  <td>-0.2580</td>       <td>nan</td>        <td>nan</td>     <td>nan</td>         <td>nan</td>             <td>nan</td>      \n",
       "</tr>\n",
       "<tr>\n",
       "  <th>name_family_status_Married</th>                         <td>2.1562</td>        <td>nan</td>        <td>nan</td>     <td>nan</td>         <td>nan</td>             <td>nan</td>      \n",
       "</tr>\n",
       "<tr>\n",
       "  <th>name_family_status_Separated</th>                       <td>-0.2441</td>       <td>nan</td>        <td>nan</td>     <td>nan</td>         <td>nan</td>             <td>nan</td>      \n",
       "</tr>\n",
       "<tr>\n",
       "  <th>name_family_status_Single / not married</th>            <td>-1.4933</td>       <td>nan</td>        <td>nan</td>     <td>nan</td>         <td>nan</td>             <td>nan</td>      \n",
       "</tr>\n",
       "<tr>\n",
       "  <th>name_family_status_Widow</th>                           <td>-0.0031</td>       <td>nan</td>        <td>nan</td>     <td>nan</td>         <td>nan</td>             <td>nan</td>      \n",
       "</tr>\n",
       "<tr>\n",
       "  <th>name_housing_type_Co-op apartment</th>                  <td>-0.5177</td>       <td>nan</td>        <td>nan</td>     <td>nan</td>         <td>nan</td>             <td>nan</td>      \n",
       "</tr>\n",
       "<tr>\n",
       "  <th>name_housing_type_House / apartment</th>                <td>0.0798</td>        <td>nan</td>        <td>nan</td>     <td>nan</td>         <td>nan</td>             <td>nan</td>      \n",
       "</tr>\n",
       "<tr>\n",
       "  <th>name_housing_type_Municipal apartment</th>              <td>-0.0000</td>       <td>nan</td>        <td>nan</td>     <td>nan</td>         <td>nan</td>             <td>nan</td>      \n",
       "</tr>\n",
       "<tr>\n",
       "  <th>name_housing_type_Office apartment</th>                 <td>-0.0000</td>       <td>nan</td>        <td>nan</td>     <td>nan</td>         <td>nan</td>             <td>nan</td>      \n",
       "</tr>\n",
       "<tr>\n",
       "  <th>name_housing_type_Rented apartment</th>                 <td>-0.0096</td>       <td>nan</td>        <td>nan</td>     <td>nan</td>         <td>nan</td>             <td>nan</td>      \n",
       "</tr>\n",
       "<tr>\n",
       "  <th>name_housing_type_With parents</th>                     <td>0.0000</td>        <td>nan</td>        <td>nan</td>     <td>nan</td>         <td>nan</td>             <td>nan</td>      \n",
       "</tr>\n",
       "<tr>\n",
       "  <th>occupation_type_Accountants</th>                        <td>-0.0748</td>       <td>nan</td>        <td>nan</td>     <td>nan</td>         <td>nan</td>             <td>nan</td>      \n",
       "</tr>\n",
       "<tr>\n",
       "  <th>occupation_type_Cleaning staff</th>                     <td>-0.0000</td>       <td>nan</td>        <td>nan</td>     <td>nan</td>         <td>nan</td>             <td>nan</td>      \n",
       "</tr>\n",
       "<tr>\n",
       "  <th>occupation_type_Cooking staff</th>                      <td>0.0000</td>        <td>nan</td>        <td>nan</td>     <td>nan</td>         <td>nan</td>             <td>nan</td>      \n",
       "</tr>\n",
       "<tr>\n",
       "  <th>occupation_type_Core staff</th>                         <td>-0.1124</td>       <td>nan</td>        <td>nan</td>     <td>nan</td>         <td>nan</td>             <td>nan</td>      \n",
       "</tr>\n",
       "<tr>\n",
       "  <th>occupation_type_Drivers</th>                            <td>0.0147</td>        <td>nan</td>        <td>nan</td>     <td>nan</td>         <td>nan</td>             <td>nan</td>      \n",
       "</tr>\n",
       "<tr>\n",
       "  <th>occupation_type_HR staff</th>                           <td>0.0000</td>        <td>nan</td>        <td>nan</td>     <td>nan</td>         <td>nan</td>             <td>nan</td>      \n",
       "</tr>\n",
       "<tr>\n",
       "  <th>occupation_type_High skill tech staff</th>              <td>-0.0211</td>       <td>nan</td>        <td>nan</td>     <td>nan</td>         <td>nan</td>             <td>nan</td>      \n",
       "</tr>\n",
       "<tr>\n",
       "  <th>occupation_type_IT staff</th>                           <td>-0.0000</td>       <td>nan</td>        <td>nan</td>     <td>nan</td>         <td>nan</td>             <td>nan</td>      \n",
       "</tr>\n",
       "<tr>\n",
       "  <th>occupation_type_Laborers</th>                           <td>3.1890</td>        <td>nan</td>        <td>nan</td>     <td>nan</td>         <td>nan</td>             <td>nan</td>      \n",
       "</tr>\n",
       "<tr>\n",
       "  <th>occupation_type_Low-skill Laborers</th>                 <td>-0.0000</td>       <td>nan</td>        <td>nan</td>     <td>nan</td>         <td>nan</td>             <td>nan</td>      \n",
       "</tr>\n",
       "<tr>\n",
       "  <th>occupation_type_Managers</th>                           <td>-0.3363</td>       <td>nan</td>        <td>nan</td>     <td>nan</td>         <td>nan</td>             <td>nan</td>      \n",
       "</tr>\n",
       "<tr>\n",
       "  <th>occupation_type_Medicine staff</th>                     <td>0.0000</td>        <td>nan</td>        <td>nan</td>     <td>nan</td>         <td>nan</td>             <td>nan</td>      \n",
       "</tr>\n",
       "<tr>\n",
       "  <th>occupation_type_Private service staff</th>              <td>0.0000</td>        <td>nan</td>        <td>nan</td>     <td>nan</td>         <td>nan</td>             <td>nan</td>      \n",
       "</tr>\n",
       "<tr>\n",
       "  <th>occupation_type_Realty agents</th>                      <td>0.0000</td>        <td>nan</td>        <td>nan</td>     <td>nan</td>         <td>nan</td>             <td>nan</td>      \n",
       "</tr>\n",
       "<tr>\n",
       "  <th>occupation_type_Sales staff</th>                        <td>-0.0000</td>       <td>nan</td>        <td>nan</td>     <td>nan</td>         <td>nan</td>             <td>nan</td>      \n",
       "</tr>\n",
       "<tr>\n",
       "  <th>occupation_type_Secretaries</th>                        <td>0.0000</td>        <td>nan</td>        <td>nan</td>     <td>nan</td>         <td>nan</td>             <td>nan</td>      \n",
       "</tr>\n",
       "<tr>\n",
       "  <th>occupation_type_Security staff</th>                     <td>-0.0048</td>       <td>nan</td>        <td>nan</td>     <td>nan</td>         <td>nan</td>             <td>nan</td>      \n",
       "</tr>\n",
       "<tr>\n",
       "  <th>occupation_type_Waiters/barmen staff</th>               <td>0.0000</td>        <td>nan</td>        <td>nan</td>     <td>nan</td>         <td>nan</td>             <td>nan</td>      \n",
       "</tr>\n",
       "<tr>\n",
       "  <th>age</th>                                                <td>0.7028</td>      <td>7.5276</td>     <td>0.0934</td>  <td>0.9256</td>     <td>-14.0509</td>         <td>15.4566</td>    \n",
       "</tr>\n",
       "<tr>\n",
       "  <th>year_employed</th>                                      <td>2.2312</td>  <td>599804349.5821</td> <td>0.0000</td>  <td>1.0000</td> <td>-1175594920.7201</td> <td>1175594925.1825</td>\n",
       "</tr>\n",
       "<tr>\n",
       "  <th>log_amt_income_total</th>                               <td>1.0149</td>      <td>24.4279</td>    <td>0.0415</td>  <td>0.9669</td>     <td>-46.8629</td>         <td>48.8927</td>    \n",
       "</tr>\n",
       "</table>"
      ],
      "text/plain": [
       "<class 'statsmodels.iolib.summary2.Summary'>\n",
       "\"\"\"\n",
       "                                                     Results: Logit\n",
       "=========================================================================================================================\n",
       "Model:                                  Logit                               Pseudo R-squared:                    0.985   \n",
       "Dependent Variable:                     status                              AIC:                                 110.2860\n",
       "Date:                                   2021-08-24 11:22                    BIC:                                 469.0169\n",
       "No. Observations:                       5026                                Log-Likelihood:                      -0.14298\n",
       "Df Model:                               54                                  LL-Null:                             -9.5223 \n",
       "Df Residuals:                           4971                                LLR p-value:                         1.0000  \n",
       "Converged:                              1.0000                              Scale:                               1.0000  \n",
       "No. Iterations:                         706.0000                                                                         \n",
       "-------------------------------------------------------------------------------------------------------------------------\n",
       "                                                   Coef.      Std.Err.       z    P>|z|       [0.025           0.975]    \n",
       "-------------------------------------------------------------------------------------------------------------------------\n",
       "const                                             -28.3118      1711.9699 -0.0165 0.9868       -3383.7112       3327.0876\n",
       "cnt_children                                       -2.0892      2786.8554 -0.0007 0.9994       -5464.2254       5460.0470\n",
       "amt_income_total                                    0.0000        26.5197  0.0000 1.0000         -51.9777         51.9777\n",
       "days_employed                                       2.2312 599804349.5821  0.0000 1.0000 -1175594920.7201 1175594925.1825\n",
       "flag_work_phone                                    -1.2749         9.5235 -0.1339 0.8935         -19.9405         17.3908\n",
       "flag_phone                                         -1.1429         8.7444 -0.1307 0.8960         -18.2816         15.9959\n",
       "flag_email                                         -0.6315         8.5489 -0.0739 0.9411         -17.3870         16.1240\n",
       "cnt_fam_members                                    -0.4482      3385.5461 -0.0001 0.9999       -6635.9967       6635.1003\n",
       "months_balance                                     -2.6998         4.8149 -0.5607 0.5750         -12.1369          6.7373\n",
       "code_gender_F                                       1.1656            nan     nan    nan              nan             nan\n",
       "code_gender_M                                      -1.1656            nan     nan    nan              nan             nan\n",
       "flag_own_car_Y                                     -4.6204         8.1198 -0.5690 0.5693         -20.5348         11.2941\n",
       "flag_own_realty_Y                                   1.6467         9.5749  0.1720 0.8635         -17.1198         20.4132\n",
       "name_income_type_Commercial associate              -0.4962            nan     nan    nan              nan             nan\n",
       "name_income_type_Pensioner                         -0.0000            nan     nan    nan              nan             nan\n",
       "name_income_type_State servant                     -0.0394            nan     nan    nan              nan             nan\n",
       "name_income_type_Student                           -0.0000            nan     nan    nan              nan             nan\n",
       "name_income_type_Working                            0.8357            nan     nan    nan              nan             nan\n",
       "name_education_type_Academic degree                -0.0000   5064219.5385 -0.0000 1.0000    -9925687.9052    9925687.9052\n",
       "name_education_type_Higher education                2.2454  72448049.9111  0.0000 1.0000  -141995566.3306  141995570.8214\n",
       "name_education_type_Incomplete higher              -0.0000  31829505.1694 -0.0000 1.0000   -62384683.7778   62384683.7778\n",
       "name_education_type_Lower secondary                 0.0000  14680075.1013  0.0000 1.0000   -28772418.4889   28772418.4889\n",
       "name_education_type_Secondary / secondary special  -1.9517  74246052.0634 -0.0000 1.0000  -145519589.9902  145519586.0868\n",
       "name_family_status_Civil marriage                  -0.2580            nan     nan    nan              nan             nan\n",
       "name_family_status_Married                          2.1562            nan     nan    nan              nan             nan\n",
       "name_family_status_Separated                       -0.2441            nan     nan    nan              nan             nan\n",
       "name_family_status_Single / not married            -1.4933            nan     nan    nan              nan             nan\n",
       "name_family_status_Widow                           -0.0031            nan     nan    nan              nan             nan\n",
       "name_housing_type_Co-op apartment                  -0.5177            nan     nan    nan              nan             nan\n",
       "name_housing_type_House / apartment                 0.0798            nan     nan    nan              nan             nan\n",
       "name_housing_type_Municipal apartment              -0.0000            nan     nan    nan              nan             nan\n",
       "name_housing_type_Office apartment                 -0.0000            nan     nan    nan              nan             nan\n",
       "name_housing_type_Rented apartment                 -0.0096            nan     nan    nan              nan             nan\n",
       "name_housing_type_With parents                      0.0000            nan     nan    nan              nan             nan\n",
       "occupation_type_Accountants                        -0.0748            nan     nan    nan              nan             nan\n",
       "occupation_type_Cleaning staff                     -0.0000            nan     nan    nan              nan             nan\n",
       "occupation_type_Cooking staff                       0.0000            nan     nan    nan              nan             nan\n",
       "occupation_type_Core staff                         -0.1124            nan     nan    nan              nan             nan\n",
       "occupation_type_Drivers                             0.0147            nan     nan    nan              nan             nan\n",
       "occupation_type_HR staff                            0.0000            nan     nan    nan              nan             nan\n",
       "occupation_type_High skill tech staff              -0.0211            nan     nan    nan              nan             nan\n",
       "occupation_type_IT staff                           -0.0000            nan     nan    nan              nan             nan\n",
       "occupation_type_Laborers                            3.1890            nan     nan    nan              nan             nan\n",
       "occupation_type_Low-skill Laborers                 -0.0000            nan     nan    nan              nan             nan\n",
       "occupation_type_Managers                           -0.3363            nan     nan    nan              nan             nan\n",
       "occupation_type_Medicine staff                      0.0000            nan     nan    nan              nan             nan\n",
       "occupation_type_Private service staff               0.0000            nan     nan    nan              nan             nan\n",
       "occupation_type_Realty agents                       0.0000            nan     nan    nan              nan             nan\n",
       "occupation_type_Sales staff                        -0.0000            nan     nan    nan              nan             nan\n",
       "occupation_type_Secretaries                         0.0000            nan     nan    nan              nan             nan\n",
       "occupation_type_Security staff                     -0.0048            nan     nan    nan              nan             nan\n",
       "occupation_type_Waiters/barmen staff                0.0000            nan     nan    nan              nan             nan\n",
       "age                                                 0.7028         7.5276  0.0934 0.9256         -14.0509         15.4566\n",
       "year_employed                                       2.2312 599804349.5821  0.0000 1.0000 -1175594920.7201 1175594925.1825\n",
       "log_amt_income_total                                1.0149        24.4279  0.0415 0.9669         -46.8629         48.8927\n",
       "=========================================================================================================================\n",
       "\n",
       "\"\"\""
      ]
     },
     "execution_count": 27,
     "metadata": {},
     "output_type": "execute_result"
    }
   ],
   "source": [
    "fit_lasso_tuned = sm.Logit(y_train, x_train_std_new).fit_regularized(alpha = best, L1_wt = 1)\n",
    "fit_lasso_tuned.summary2()"
   ]
  },
  {
   "cell_type": "code",
   "execution_count": 28,
   "id": "endless-american",
   "metadata": {},
   "outputs": [],
   "source": [
    "# drop coefficients that are 0\n",
    "x_train_std_new = x_train_std_new.drop(['name_income_type_Pensioner', 'name_income_type_State servant', 'name_income_type_Student', \n",
    "                  'name_education_type_Academic degree', 'name_education_type_Lower secondary', 'name_family_status_Widow',\n",
    "                  'name_housing_type_House / apartment', 'name_housing_type_Office apartment', 'name_housing_type_With parents',\n",
    "                  'occupation_type_Cleaning staff', 'occupation_type_Cooking staff', 'occupation_type_Core staff', \n",
    "                  'occupation_type_Drivers', 'occupation_type_HR staff', 'occupation_type_High skill tech staff',\n",
    "                  'occupation_type_IT staff', 'occupation_type_Low-skill Laborers', 'occupation_type_Managers',\n",
    "                  'occupation_type_Accountants', 'occupation_type_Private service staff', 'occupation_type_Realty agents', \n",
    "                  'occupation_type_Realty agents','occupation_type_Sales staff', 'occupation_type_Secretaries', \n",
    "                  'occupation_type_Waiters/barmen staff', 'name_education_type_Incomplete higher', 'occupation_type_Medicine staff',\n",
    "                  'occupation_type_Security staff'\n",
    "                 ], axis = 1)"
   ]
  },
  {
   "cell_type": "code",
   "execution_count": 29,
   "id": "sunset-joint",
   "metadata": {},
   "outputs": [
    {
     "name": "stdout",
     "output_type": "stream",
     "text": [
      "Optimization terminated successfully    (Exit mode 0)\n",
      "            Current function value: 0.00015938674433749233\n",
      "            Iterations: 305\n",
      "            Function evaluations: 306\n",
      "            Gradient evaluations: 305\n"
     ]
    },
    {
     "data": {
      "text/html": [
       "<table class=\"simpletable\">\n",
       "<tr>\n",
       "        <td>Model:</td>              <td>Logit</td>      <td>Pseudo R-squared:</td>   <td>0.985</td> \n",
       "</tr>\n",
       "<tr>\n",
       "  <td>Dependent Variable:</td>      <td>status</td>            <td>AIC:</td>         <td>56.2951</td>\n",
       "</tr>\n",
       "<tr>\n",
       "         <td>Date:</td>        <td>2021-08-24 11:22</td>       <td>BIC:</td>        <td>238.9218</td>\n",
       "</tr>\n",
       "<tr>\n",
       "   <td>No. Observations:</td>        <td>5026</td>        <td>Log-Likelihood:</td>  <td>-0.14757</td>\n",
       "</tr>\n",
       "<tr>\n",
       "       <td>Df Model:</td>             <td>27</td>            <td>LL-Null:</td>       <td>-9.5223</td>\n",
       "</tr>\n",
       "<tr>\n",
       "     <td>Df Residuals:</td>          <td>4998</td>         <td>LLR p-value:</td>     <td>0.87895</td>\n",
       "</tr>\n",
       "<tr>\n",
       "      <td>Converged:</td>           <td>1.0000</td>           <td>Scale:</td>        <td>1.0000</td> \n",
       "</tr>\n",
       "<tr>\n",
       "    <td>No. Iterations:</td>       <td>305.0000</td>             <td></td>              <td></td>    \n",
       "</tr>\n",
       "</table>\n",
       "<table class=\"simpletable\">\n",
       "<tr>\n",
       "                          <td></td>                            <th>Coef.</th>  <th>Std.Err.</th>     <th>z</th>     <th>P>|z|</th>   <th>[0.025</th>    <th>0.975]</th>  \n",
       "</tr>\n",
       "<tr>\n",
       "  <th>const</th>                                             <td>-28.4887</td>  <td>18.7378</td>  <td>-1.5204</td> <td>0.1284</td>  <td>-65.2142</td>   <td>8.2368</td>  \n",
       "</tr>\n",
       "<tr>\n",
       "  <th>cnt_children</th>                                       <td>-1.9647</td> <td>2771.2689</td> <td>-0.0007</td> <td>0.9994</td> <td>-5433.5519</td> <td>5429.6226</td>\n",
       "</tr>\n",
       "<tr>\n",
       "  <th>amt_income_total</th>                                   <td>0.1651</td>   <td>25.6391</td>  <td>0.0064</td>  <td>0.9949</td>  <td>-50.0865</td>   <td>50.4167</td> \n",
       "</tr>\n",
       "<tr>\n",
       "  <th>days_employed</th>                                      <td>2.1925</td>     <td>nan</td>      <td>nan</td>     <td>nan</td>      <td>nan</td>       <td>nan</td>   \n",
       "</tr>\n",
       "<tr>\n",
       "  <th>flag_work_phone</th>                                    <td>-1.3489</td>  <td>9.9737</td>   <td>-0.1352</td> <td>0.8924</td>  <td>-20.8970</td>   <td>18.1992</td> \n",
       "</tr>\n",
       "<tr>\n",
       "  <th>flag_phone</th>                                         <td>-1.1760</td>  <td>8.3245</td>   <td>-0.1413</td> <td>0.8877</td>  <td>-17.4916</td>   <td>15.1396</td> \n",
       "</tr>\n",
       "<tr>\n",
       "  <th>flag_email</th>                                         <td>-0.7654</td>  <td>7.9812</td>   <td>-0.0959</td> <td>0.9236</td>  <td>-16.4082</td>   <td>14.8774</td> \n",
       "</tr>\n",
       "<tr>\n",
       "  <th>cnt_fam_members</th>                                    <td>-0.4285</td> <td>3366.6097</td> <td>-0.0001</td> <td>0.9999</td> <td>-6598.8621</td> <td>6598.0052</td>\n",
       "</tr>\n",
       "<tr>\n",
       "  <th>months_balance</th>                                     <td>-2.6585</td>  <td>4.5783</td>   <td>-0.5807</td> <td>0.5615</td>  <td>-11.6318</td>   <td>6.3149</td>  \n",
       "</tr>\n",
       "<tr>\n",
       "  <th>code_gender_F</th>                                      <td>1.2206</td>     <td>nan</td>      <td>nan</td>     <td>nan</td>      <td>nan</td>       <td>nan</td>   \n",
       "</tr>\n",
       "<tr>\n",
       "  <th>code_gender_M</th>                                      <td>-1.2206</td>    <td>nan</td>      <td>nan</td>     <td>nan</td>      <td>nan</td>       <td>nan</td>   \n",
       "</tr>\n",
       "<tr>\n",
       "  <th>flag_own_car_Y</th>                                     <td>-4.5059</td>  <td>8.0489</td>   <td>-0.5598</td> <td>0.5756</td>  <td>-20.2814</td>   <td>11.2696</td> \n",
       "</tr>\n",
       "<tr>\n",
       "  <th>flag_own_realty_Y</th>                                  <td>1.6491</td>   <td>9.1691</td>   <td>0.1799</td>  <td>0.8573</td>  <td>-16.3219</td>   <td>19.6202</td> \n",
       "</tr>\n",
       "<tr>\n",
       "  <th>name_income_type_Commercial associate</th>              <td>-0.5558</td>  <td>16.3054</td>  <td>-0.0341</td> <td>0.9728</td>  <td>-32.5137</td>   <td>31.4022</td> \n",
       "</tr>\n",
       "<tr>\n",
       "  <th>name_income_type_Working</th>                           <td>0.9307</td>   <td>12.1247</td>  <td>0.0768</td>  <td>0.9388</td>  <td>-22.8333</td>   <td>24.6948</td> \n",
       "</tr>\n",
       "<tr>\n",
       "  <th>name_education_type_Higher education</th>               <td>2.2141</td>   <td>20.2804</td>  <td>0.1092</td>  <td>0.9131</td>  <td>-37.5347</td>   <td>41.9630</td> \n",
       "</tr>\n",
       "<tr>\n",
       "  <th>name_education_type_Secondary / secondary special</th>  <td>-1.9098</td>  <td>21.9831</td>  <td>-0.0869</td> <td>0.9308</td>  <td>-44.9959</td>   <td>41.1762</td> \n",
       "</tr>\n",
       "<tr>\n",
       "  <th>name_family_status_Civil marriage</th>                  <td>-0.1871</td> <td>1012.0882</td> <td>-0.0002</td> <td>0.9999</td> <td>-1983.8436</td> <td>1983.4693</td>\n",
       "</tr>\n",
       "<tr>\n",
       "  <th>name_family_status_Married</th>                         <td>2.0542</td>  <td>1661.4218</td> <td>0.0012</td>  <td>0.9990</td> <td>-3254.2727</td> <td>3258.3811</td>\n",
       "</tr>\n",
       "<tr>\n",
       "  <th>name_family_status_Separated</th>                       <td>-0.3251</td>  <td>38.5596</td>  <td>-0.0084</td> <td>0.9933</td>  <td>-75.9005</td>   <td>75.2503</td> \n",
       "</tr>\n",
       "<tr>\n",
       "  <th>name_family_status_Single / not married</th>            <td>-1.5126</td>  <td>55.8318</td>  <td>-0.0271</td> <td>0.9784</td>  <td>-110.9408</td> <td>107.9156</td> \n",
       "</tr>\n",
       "<tr>\n",
       "  <th>name_housing_type_Co-op apartment</th>                  <td>-0.5746</td>  <td>3.6996</td>   <td>-0.1553</td> <td>0.8766</td>   <td>-7.8256</td>   <td>6.6765</td>  \n",
       "</tr>\n",
       "<tr>\n",
       "  <th>name_housing_type_Municipal apartment</th>              <td>-0.0612</td>  <td>8.4947</td>   <td>-0.0072</td> <td>0.9943</td>  <td>-16.7105</td>   <td>16.5882</td> \n",
       "</tr>\n",
       "<tr>\n",
       "  <th>name_housing_type_Rented apartment</th>                 <td>-0.0769</td>  <td>4.6092</td>   <td>-0.0167</td> <td>0.9867</td>   <td>-9.1107</td>   <td>8.9569</td>  \n",
       "</tr>\n",
       "<tr>\n",
       "  <th>occupation_type_Laborers</th>                           <td>3.5077</td>   <td>6.2821</td>   <td>0.5584</td>  <td>0.5766</td>   <td>-8.8049</td>   <td>15.8204</td> \n",
       "</tr>\n",
       "<tr>\n",
       "  <th>age</th>                                                <td>0.5893</td>   <td>7.4799</td>   <td>0.0788</td>  <td>0.9372</td>  <td>-14.0710</td>   <td>15.2496</td> \n",
       "</tr>\n",
       "<tr>\n",
       "  <th>year_employed</th>                                      <td>2.1925</td>     <td>nan</td>      <td>nan</td>     <td>nan</td>      <td>nan</td>       <td>nan</td>   \n",
       "</tr>\n",
       "<tr>\n",
       "  <th>log_amt_income_total</th>                               <td>0.8556</td>   <td>22.7910</td>  <td>0.0375</td>  <td>0.9701</td>  <td>-43.8139</td>   <td>45.5251</td> \n",
       "</tr>\n",
       "</table>"
      ],
      "text/plain": [
       "<class 'statsmodels.iolib.summary2.Summary'>\n",
       "\"\"\"\n",
       "                                             Results: Logit\n",
       "========================================================================================================\n",
       "Model:                             Logit                         Pseudo R-squared:              0.985   \n",
       "Dependent Variable:                status                        AIC:                           56.2951 \n",
       "Date:                              2021-08-24 11:22              BIC:                           238.9218\n",
       "No. Observations:                  5026                          Log-Likelihood:                -0.14757\n",
       "Df Model:                          27                            LL-Null:                       -9.5223 \n",
       "Df Residuals:                      4998                          LLR p-value:                   0.87895 \n",
       "Converged:                         1.0000                        Scale:                         1.0000  \n",
       "No. Iterations:                    305.0000                                                             \n",
       "--------------------------------------------------------------------------------------------------------\n",
       "                                                   Coef.    Std.Err.    z    P>|z|    [0.025     0.975] \n",
       "--------------------------------------------------------------------------------------------------------\n",
       "const                                             -28.4887   18.7378 -1.5204 0.1284   -65.2142    8.2368\n",
       "cnt_children                                       -1.9647 2771.2689 -0.0007 0.9994 -5433.5519 5429.6226\n",
       "amt_income_total                                    0.1651   25.6391  0.0064 0.9949   -50.0865   50.4167\n",
       "days_employed                                       2.1925       nan     nan    nan        nan       nan\n",
       "flag_work_phone                                    -1.3489    9.9737 -0.1352 0.8924   -20.8970   18.1992\n",
       "flag_phone                                         -1.1760    8.3245 -0.1413 0.8877   -17.4916   15.1396\n",
       "flag_email                                         -0.7654    7.9812 -0.0959 0.9236   -16.4082   14.8774\n",
       "cnt_fam_members                                    -0.4285 3366.6097 -0.0001 0.9999 -6598.8621 6598.0052\n",
       "months_balance                                     -2.6585    4.5783 -0.5807 0.5615   -11.6318    6.3149\n",
       "code_gender_F                                       1.2206       nan     nan    nan        nan       nan\n",
       "code_gender_M                                      -1.2206       nan     nan    nan        nan       nan\n",
       "flag_own_car_Y                                     -4.5059    8.0489 -0.5598 0.5756   -20.2814   11.2696\n",
       "flag_own_realty_Y                                   1.6491    9.1691  0.1799 0.8573   -16.3219   19.6202\n",
       "name_income_type_Commercial associate              -0.5558   16.3054 -0.0341 0.9728   -32.5137   31.4022\n",
       "name_income_type_Working                            0.9307   12.1247  0.0768 0.9388   -22.8333   24.6948\n",
       "name_education_type_Higher education                2.2141   20.2804  0.1092 0.9131   -37.5347   41.9630\n",
       "name_education_type_Secondary / secondary special  -1.9098   21.9831 -0.0869 0.9308   -44.9959   41.1762\n",
       "name_family_status_Civil marriage                  -0.1871 1012.0882 -0.0002 0.9999 -1983.8436 1983.4693\n",
       "name_family_status_Married                          2.0542 1661.4218  0.0012 0.9990 -3254.2727 3258.3811\n",
       "name_family_status_Separated                       -0.3251   38.5596 -0.0084 0.9933   -75.9005   75.2503\n",
       "name_family_status_Single / not married            -1.5126   55.8318 -0.0271 0.9784  -110.9408  107.9156\n",
       "name_housing_type_Co-op apartment                  -0.5746    3.6996 -0.1553 0.8766    -7.8256    6.6765\n",
       "name_housing_type_Municipal apartment              -0.0612    8.4947 -0.0072 0.9943   -16.7105   16.5882\n",
       "name_housing_type_Rented apartment                 -0.0769    4.6092 -0.0167 0.9867    -9.1107    8.9569\n",
       "occupation_type_Laborers                            3.5077    6.2821  0.5584 0.5766    -8.8049   15.8204\n",
       "age                                                 0.5893    7.4799  0.0788 0.9372   -14.0710   15.2496\n",
       "year_employed                                       2.1925       nan     nan    nan        nan       nan\n",
       "log_amt_income_total                                0.8556   22.7910  0.0375 0.9701   -43.8139   45.5251\n",
       "========================================================================================================\n",
       "\n",
       "\"\"\""
      ]
     },
     "execution_count": 29,
     "metadata": {},
     "output_type": "execute_result"
    }
   ],
   "source": [
    "fit_lasso_tuned = sm.Logit(y_train, x_train_std_new).fit_regularized(alpha = best, L1_wt = 1)\n",
    "fit_lasso_tuned.summary2()"
   ]
  },
  {
   "cell_type": "code",
   "execution_count": 30,
   "id": "miniature-delta",
   "metadata": {},
   "outputs": [],
   "source": [
    "# Looking at the z-scores, name_family_status_Separated, name_housing_type_Municipal apartment, 'cnt_children' should be used"
   ]
  },
  {
   "cell_type": "code",
   "execution_count": 31,
   "id": "annoying-statistics",
   "metadata": {},
   "outputs": [
    {
     "name": "stdout",
     "output_type": "stream",
     "text": [
      "Optimization terminated successfully.\n",
      "         Current function value: 0.693147\n",
      "         Iterations 2\n"
     ]
    },
    {
     "data": {
      "text/html": [
       "<table class=\"simpletable\">\n",
       "<caption>Logit Marginal Effects</caption>\n",
       "<tr>\n",
       "  <th>Dep. Variable:</th> <td>status</td> \n",
       "</tr>\n",
       "<tr>\n",
       "  <th>Method:</th>         <td>dydx</td>  \n",
       "</tr>\n",
       "<tr>\n",
       "  <th>At:</th>            <td>overall</td>\n",
       "</tr>\n",
       "</table>\n",
       "<table class=\"simpletable\">\n",
       "<tr>\n",
       "                    <th></th>                       <th>dy/dx</th>    <th>std err</th>      <th>z</th>      <th>P>|z|</th>  <th>[0.025</th>    <th>0.975]</th>  \n",
       "</tr>\n",
       "<tr>\n",
       "  <th>name_family_status_Separated</th>          <td>-4.909e-05</td> <td>    0.007</td> <td>   -0.007</td> <td> 0.994</td> <td>   -0.014</td> <td>    0.014</td>\n",
       "</tr>\n",
       "<tr>\n",
       "  <th>name_housing_type_Municipal apartment</th> <td>-3.984e-05</td> <td>    0.007</td> <td>   -0.006</td> <td> 0.995</td> <td>   -0.014</td> <td>    0.014</td>\n",
       "</tr>\n",
       "<tr>\n",
       "  <th>cnt_children</th>                          <td>   -0.0001</td> <td>    0.007</td> <td>   -0.019</td> <td> 0.985</td> <td>   -0.014</td> <td>    0.014</td>\n",
       "</tr>\n",
       "</table>"
      ],
      "text/plain": [
       "<class 'statsmodels.iolib.summary.Summary'>\n",
       "\"\"\"\n",
       "        Logit Marginal Effects       \n",
       "=====================================\n",
       "Dep. Variable:                 status\n",
       "Method:                          dydx\n",
       "At:                           overall\n",
       "=========================================================================================================\n",
       "                                           dy/dx    std err          z      P>|z|      [0.025      0.975]\n",
       "---------------------------------------------------------------------------------------------------------\n",
       "name_family_status_Separated          -4.909e-05      0.007     -0.007      0.994      -0.014       0.014\n",
       "name_housing_type_Municipal apartment -3.984e-05      0.007     -0.006      0.995      -0.014       0.014\n",
       "cnt_children                             -0.0001      0.007     -0.019      0.985      -0.014       0.014\n",
       "=========================================================================================================\n",
       "\"\"\""
      ]
     },
     "execution_count": 31,
     "metadata": {},
     "output_type": "execute_result"
    }
   ],
   "source": [
    "sm.Logit(y_train, x_train_std_new[['name_family_status_Separated', 'name_housing_type_Municipal apartment', 'cnt_children']]).fit().get_margeff().summary()"
   ]
  },
  {
   "cell_type": "markdown",
   "id": "ranging-optimization",
   "metadata": {},
   "source": [
    "An increase in one's name_family_status_Separated by one standard deviation is associated with a decrease probability of having status by -4.909e-05."
   ]
  },
  {
   "cell_type": "markdown",
   "id": "twenty-chance",
   "metadata": {},
   "source": [
    "An increase in one's name_housing_type_Municipal apartment by one standard deviation is associated with a decrease probability of having status by -3.984e-05."
   ]
  },
  {
   "cell_type": "markdown",
   "id": "regulation-defendant",
   "metadata": {},
   "source": [
    "An increase in one's cnt_children by one standard deviation is associated with a decrease probability of having status by -0.0001."
   ]
  },
  {
   "cell_type": "markdown",
   "id": "invalid-karma",
   "metadata": {},
   "source": [
    "# Prediction"
   ]
  },
  {
   "cell_type": "markdown",
   "id": "central-albuquerque",
   "metadata": {},
   "source": [
    "##### Binomial Logit"
   ]
  },
  {
   "cell_type": "code",
   "execution_count": 32,
   "id": "posted-honey",
   "metadata": {},
   "outputs": [],
   "source": [
    "y = df['status']\n",
    "x = df.drop(columns = 'status')\n",
    "x_train, x_test, y_train, y_test = train_test_split(x, y, train_size = 0.2, random_state = 490, stratify = y)\n",
    "x_train_std = x_train.apply(lambda x: (x - np.mean(x))/np.std(x), axis = 0)\n",
    "x_test_std  = x_test.apply(lambda x: (x - np.mean(x))/np.std(x), axis = 0)"
   ]
  },
  {
   "cell_type": "code",
   "execution_count": 33,
   "id": "acute-action",
   "metadata": {},
   "outputs": [
    {
     "name": "stdout",
     "output_type": "stream",
     "text": [
      "Optimization terminated successfully    (Exit mode 0)\n",
      "            Current function value: 0.0001498598702146538\n",
      "            Iterations: 637\n",
      "            Function evaluations: 656\n",
      "            Gradient evaluations: 637\n"
     ]
    }
   ],
   "source": [
    "fit_lasso_tuned = sm.Logit(y_train, x_train).fit_regularized(alpha = best, L1_wt = 1)"
   ]
  },
  {
   "cell_type": "code",
   "execution_count": 34,
   "id": "touched-kidney",
   "metadata": {},
   "outputs": [],
   "source": [
    "yhat = fit_lasso_tuned.predict(x_test)"
   ]
  },
  {
   "cell_type": "code",
   "execution_count": 35,
   "id": "informative-accident",
   "metadata": {},
   "outputs": [],
   "source": [
    "# Lasso Accuracy"
   ]
  },
  {
   "cell_type": "code",
   "execution_count": 36,
   "id": "fewer-grammar",
   "metadata": {},
   "outputs": [
    {
     "data": {
      "text/plain": [
       "0.9966679928386711"
      ]
     },
     "execution_count": 36,
     "metadata": {},
     "output_type": "execute_result"
    }
   ],
   "source": [
    "la = np.mean(round(yhat, 2) == y_test)\n",
    "la"
   ]
  },
  {
   "cell_type": "markdown",
   "id": "instructional-output",
   "metadata": {},
   "source": [
    "##### XGBoost"
   ]
  },
  {
   "cell_type": "code",
   "execution_count": 37,
   "id": "assigned-johns",
   "metadata": {},
   "outputs": [
    {
     "name": "stdout",
     "output_type": "stream",
     "text": [
      "[11:22:19] WARNING: ../src/learner.cc:573: \n",
      "Parameters: { \"learning\" } might not be used.\n",
      "\n",
      "  This may not be accurate due to some parameters are only used in language bindings but\n",
      "  passed down to XGBoost core.  Or some parameters are not used but slip through this\n",
      "  verification. Please open an issue if you find above cases.\n",
      "\n",
      "\n",
      "[11:22:19] WARNING: ../src/learner.cc:1095: Starting in XGBoost 1.3.0, the default evaluation metric used with the objective 'binary:logistic' was changed from 'error' to 'logloss'. Explicitly set eval_metric if you'd like to restore the old behavior.\n",
      "[0]\tvalidation_0-logloss:0.43792\n",
      "[1]\tvalidation_0-logloss:0.29692\n",
      "[2]\tvalidation_0-logloss:0.20810\n",
      "[3]\tvalidation_0-logloss:0.14869\n",
      "[4]\tvalidation_0-logloss:0.10760\n",
      "[5]\tvalidation_0-logloss:0.07859\n",
      "[6]\tvalidation_0-logloss:0.05783\n",
      "[7]\tvalidation_0-logloss:0.04283\n",
      "[8]\tvalidation_0-logloss:0.03194\n",
      "[9]\tvalidation_0-logloss:0.02399\n",
      "[10]\tvalidation_0-logloss:0.01818\n",
      "[11]\tvalidation_0-logloss:0.01392\n",
      "[12]\tvalidation_0-logloss:0.01081\n",
      "[13]\tvalidation_0-logloss:0.00853\n",
      "[14]\tvalidation_0-logloss:0.00687\n",
      "[15]\tvalidation_0-logloss:0.00566\n",
      "[16]\tvalidation_0-logloss:0.00479\n",
      "[17]\tvalidation_0-logloss:0.00415\n",
      "[18]\tvalidation_0-logloss:0.00370\n",
      "[19]\tvalidation_0-logloss:0.00336\n",
      "[20]\tvalidation_0-logloss:0.00315\n",
      "[21]\tvalidation_0-logloss:0.00298\n",
      "[22]\tvalidation_0-logloss:0.00295\n",
      "[23]\tvalidation_0-logloss:0.00287\n",
      "[24]\tvalidation_0-logloss:0.00280\n",
      "[25]\tvalidation_0-logloss:0.00275\n",
      "[26]\tvalidation_0-logloss:0.00275\n",
      "[27]\tvalidation_0-logloss:0.00275\n",
      "[28]\tvalidation_0-logloss:0.00275\n",
      "[29]\tvalidation_0-logloss:0.00274\n",
      "[30]\tvalidation_0-logloss:0.00273\n",
      "[31]\tvalidation_0-logloss:0.00272\n",
      "[32]\tvalidation_0-logloss:0.00272\n",
      "[33]\tvalidation_0-logloss:0.00272\n",
      "[34]\tvalidation_0-logloss:0.00271\n",
      "[35]\tvalidation_0-logloss:0.00271\n",
      "[36]\tvalidation_0-logloss:0.00271\n",
      "[37]\tvalidation_0-logloss:0.00271\n",
      "[38]\tvalidation_0-logloss:0.00271\n",
      "[39]\tvalidation_0-logloss:0.00272\n",
      "[40]\tvalidation_0-logloss:0.00272\n"
     ]
    },
    {
     "data": {
      "text/plain": [
       "XGBClassifier(base_score=0.5, booster='gbtree', colsample_bylevel=1,\n",
       "              colsample_bynode=1, colsample_bytree=1, gamma=0, gpu_id=-1,\n",
       "              importance_type='gain', interaction_constraints='', learning=0.5,\n",
       "              learning_rate=0.300000012, max_delta_step=0, max_depth=2,\n",
       "              min_child_weight=1, missing=nan, monotone_constraints='()',\n",
       "              n_estimators=250, n_jobs=128, num_parallel_tree=1,\n",
       "              random_state=490, reg_alpha=0, reg_lambda=1, scale_pos_weight=1,\n",
       "              subsample=1, tree_method='exact', use_label_encoder=False,\n",
       "              validate_parameters=1, verbosity=None)"
      ]
     },
     "execution_count": 37,
     "metadata": {},
     "output_type": "execute_result"
    }
   ],
   "source": [
    "xg = xgb.XGBClassifier(n_estimators = 250,\n",
    "                       max_depth = 2, \n",
    "                       learning = 0.5,\n",
    "                       use_label_encoder = False,\n",
    "                       random_state = 490)\n",
    "\n",
    "xg.fit(x_train_std, y_train,\n",
    "       eval_set = [(x_test, y_test)],\n",
    "       early_stopping_rounds = 5\n",
    "       )"
   ]
  },
  {
   "cell_type": "code",
   "execution_count": 38,
   "id": "advance-cocktail",
   "metadata": {},
   "outputs": [],
   "source": [
    "# Choosing the best iteration refit the model"
   ]
  },
  {
   "cell_type": "code",
   "execution_count": 39,
   "id": "transparent-electric",
   "metadata": {},
   "outputs": [
    {
     "data": {
      "text/plain": [
       "35"
      ]
     },
     "execution_count": 39,
     "metadata": {},
     "output_type": "execute_result"
    }
   ],
   "source": [
    "best_iteration = xg.get_booster().best_iteration\n",
    "best_iteration"
   ]
  },
  {
   "cell_type": "code",
   "execution_count": 40,
   "id": "arranged-virtue",
   "metadata": {},
   "outputs": [
    {
     "name": "stdout",
     "output_type": "stream",
     "text": [
      "[11:22:19] WARNING: ../src/learner.cc:573: \n",
      "Parameters: { \"learning\" } might not be used.\n",
      "\n",
      "  This may not be accurate due to some parameters are only used in language bindings but\n",
      "  passed down to XGBoost core.  Or some parameters are not used but slip through this\n",
      "  verification. Please open an issue if you find above cases.\n",
      "\n",
      "\n",
      "[11:22:19] WARNING: ../src/learner.cc:1095: Starting in XGBoost 1.3.0, the default evaluation metric used with the objective 'binary:logistic' was changed from 'error' to 'logloss'. Explicitly set eval_metric if you'd like to restore the old behavior.\n",
      "[0]\tvalidation_0-logloss:0.43792\n",
      "[1]\tvalidation_0-logloss:0.29692\n",
      "[2]\tvalidation_0-logloss:0.20810\n",
      "[3]\tvalidation_0-logloss:0.14869\n",
      "[4]\tvalidation_0-logloss:0.10760\n",
      "[5]\tvalidation_0-logloss:0.07859\n",
      "[6]\tvalidation_0-logloss:0.05783\n",
      "[7]\tvalidation_0-logloss:0.04283\n",
      "[8]\tvalidation_0-logloss:0.03194\n",
      "[9]\tvalidation_0-logloss:0.02399\n",
      "[10]\tvalidation_0-logloss:0.01818\n",
      "[11]\tvalidation_0-logloss:0.01392\n",
      "[12]\tvalidation_0-logloss:0.01081\n",
      "[13]\tvalidation_0-logloss:0.00853\n",
      "[14]\tvalidation_0-logloss:0.00687\n",
      "[15]\tvalidation_0-logloss:0.00566\n",
      "[16]\tvalidation_0-logloss:0.00479\n",
      "[17]\tvalidation_0-logloss:0.00415\n",
      "[18]\tvalidation_0-logloss:0.00370\n",
      "[19]\tvalidation_0-logloss:0.00336\n",
      "[20]\tvalidation_0-logloss:0.00315\n",
      "[21]\tvalidation_0-logloss:0.00298\n",
      "[22]\tvalidation_0-logloss:0.00295\n",
      "[23]\tvalidation_0-logloss:0.00287\n",
      "[24]\tvalidation_0-logloss:0.00280\n",
      "[25]\tvalidation_0-logloss:0.00275\n",
      "[26]\tvalidation_0-logloss:0.00275\n",
      "[27]\tvalidation_0-logloss:0.00275\n",
      "[28]\tvalidation_0-logloss:0.00275\n",
      "[29]\tvalidation_0-logloss:0.00274\n"
     ]
    },
    {
     "data": {
      "text/plain": [
       "XGBClassifier(base_score=0.5, booster='gbtree', colsample_bylevel=1,\n",
       "              colsample_bynode=1, colsample_bytree=1, gamma=0, gpu_id=-1,\n",
       "              importance_type='gain', interaction_constraints='', learning=0.5,\n",
       "              learning_rate=0.300000012, max_delta_step=0, max_depth=2,\n",
       "              min_child_weight=1, missing=nan, monotone_constraints='()',\n",
       "              n_estimators=30, n_jobs=128, num_parallel_tree=1,\n",
       "              random_state=490, reg_alpha=0, reg_lambda=1, scale_pos_weight=1,\n",
       "              subsample=1, tree_method='exact', use_label_encoder=False,\n",
       "              validate_parameters=1, verbosity=None)"
      ]
     },
     "execution_count": 40,
     "metadata": {},
     "output_type": "execute_result"
    }
   ],
   "source": [
    "xg = xgb.XGBClassifier(n_estimators = 30,\n",
    "                       max_depth = 2, \n",
    "                       learning = 0.5,\n",
    "                       use_label_encoder = False,\n",
    "                       random_state = 490)\n",
    "\n",
    "xg.fit(x_train_std, y_train,\n",
    "       eval_set = [(x_test, y_test)],\n",
    "       )"
   ]
  },
  {
   "cell_type": "code",
   "execution_count": 41,
   "id": "senior-raising",
   "metadata": {},
   "outputs": [],
   "source": [
    "# XGBoost accuracy"
   ]
  },
  {
   "cell_type": "code",
   "execution_count": 42,
   "id": "grateful-struggle",
   "metadata": {},
   "outputs": [
    {
     "data": {
      "text/plain": [
       "0.9997016112989855"
      ]
     },
     "execution_count": 42,
     "metadata": {},
     "output_type": "execute_result"
    }
   ],
   "source": [
    "xg_acc = xg.score(x_test_std, y_test)\n",
    "xg_acc"
   ]
  },
  {
   "cell_type": "code",
   "execution_count": 43,
   "id": "eligible-prospect",
   "metadata": {},
   "outputs": [],
   "source": [
    "# XGBoost Confusion Matrix"
   ]
  },
  {
   "cell_type": "code",
   "execution_count": 44,
   "id": "legitimate-house",
   "metadata": {},
   "outputs": [
    {
     "data": {
      "image/png": "[encoded data removed]",
      "text/plain": [
       "<Figure size 576x324 with 2 Axes>"
      ]
     },
     "metadata": {},
     "output_type": "display_data"
    }
   ],
   "source": [
    "plot_confusion_matrix(xg, x_test_std, y_test, cmap=plt.cm.Blues)\n",
    "plt.show()"
   ]
  },
  {
   "cell_type": "markdown",
   "id": "surgical-graduate",
   "metadata": {},
   "source": [
    "##### AdaBoost"
   ]
  },
  {
   "cell_type": "code",
   "execution_count": 45,
   "id": "fossil-sharp",
   "metadata": {},
   "outputs": [],
   "source": [
    "# Tuning the AdaBoost"
   ]
  },
  {
   "cell_type": "code",
   "execution_count": 46,
   "id": "loose-services",
   "metadata": {},
   "outputs": [
    {
     "data": {
      "text/plain": [
       "{'learning_rate': 0.1, 'n_estimators': 25}"
      ]
     },
     "execution_count": 46,
     "metadata": {},
     "output_type": "execute_result"
    }
   ],
   "source": [
    "param_grid = {\n",
    "    'n_estimators': [25, 50, 75, 100, 125,],\n",
    "    'learning_rate': [0.1, 0.5, 1, 1.25, 1.5]\n",
    "}\n",
    "\n",
    "ad_cv = AdaBoostClassifier(base_estimator = DecisionTreeClassifier(max_depth = 1),\n",
    "                           random_state = 490)\n",
    "grid_search = GridSearchCV(ad_cv, param_grid,\n",
    "                           cv = 5,\n",
    "                           scoring = 'r2').fit(x_train, y_train)\n",
    "best = grid_search.best_params_\n",
    "best"
   ]
  },
  {
   "cell_type": "code",
   "execution_count": 37,
   "id": "accessible-cheat",
   "metadata": {},
   "outputs": [],
   "source": [
    "# Using learning rate and n_estimators above to find better accuracy"
   ]
  },
  {
   "cell_type": "code",
   "execution_count": 38,
   "id": "demanding-receipt",
   "metadata": {},
   "outputs": [
    {
     "data": {
      "text/plain": [
       "AdaBoostClassifier(base_estimator=DecisionTreeClassifier(max_depth=1),\n",
       "                   learning_rate=0.1, n_estimators=25, random_state=490)"
      ]
     },
     "execution_count": 38,
     "metadata": {},
     "output_type": "execute_result"
    }
   ],
   "source": [
    "ad = AdaBoostClassifier(base_estimator = DecisionTreeClassifier(max_depth = 1),\n",
    "                        n_estimators = 25,\n",
    "                        learning_rate = 0.1,\n",
    "                        random_state = 490)\n",
    "ad.fit(x_train_std, y_train)"
   ]
  },
  {
   "cell_type": "code",
   "execution_count": 39,
   "id": "suburban-bahrain",
   "metadata": {},
   "outputs": [],
   "source": [
    "# AdaBoost accuracy"
   ]
  },
  {
   "cell_type": "code",
   "execution_count": 40,
   "id": "statistical-adobe",
   "metadata": {},
   "outputs": [
    {
     "data": {
      "text/plain": [
       "0.9997016112989855"
      ]
     },
     "execution_count": 40,
     "metadata": {},
     "output_type": "execute_result"
    }
   ],
   "source": [
    "ad_acc = ad.score(x_test_std, y_test)\n",
    "ad_acc"
   ]
  },
  {
   "cell_type": "code",
   "execution_count": 41,
   "id": "related-dallas",
   "metadata": {},
   "outputs": [
    {
     "data": {
      "image/png": "[encoded data removed]",
      "text/plain": [
       "<Figure size 576x324 with 2 Axes>"
      ]
     },
     "metadata": {},
     "output_type": "display_data"
    }
   ],
   "source": [
    "plot_confusion_matrix(ad, x_test_std, y_test, cmap=plt.cm.Blues)\n",
    "plt.show()"
   ]
  },
  {
   "cell_type": "code",
   "execution_count": 42,
   "id": "improving-algebra",
   "metadata": {},
   "outputs": [],
   "source": [
    "df = [['Lasso', round(la, 5)], ['XGBoost', round(xg_acc, 5)], ['AdaBoost', round(ad_acc, 5)]]"
   ]
  },
  {
   "cell_type": "code",
   "execution_count": 43,
   "id": "wanted-tomato",
   "metadata": {},
   "outputs": [
    {
     "data": {
      "text/html": [
       "<div>\n",
       "<style scoped>\n",
       "    .dataframe tbody tr th:only-of-type {\n",
       "        vertical-align: middle;\n",
       "    }\n",
       "\n",
       "    .dataframe tbody tr th {\n",
       "        vertical-align: top;\n",
       "    }\n",
       "\n",
       "    .dataframe thead th {\n",
       "        text-align: right;\n",
       "    }\n",
       "</style>\n",
       "<table border=\"1\" class=\"dataframe\">\n",
       "  <thead>\n",
       "    <tr style=\"text-align: right;\">\n",
       "      <th></th>\n",
       "      <th>Model</th>\n",
       "      <th>Accuracy</th>\n",
       "    </tr>\n",
       "  </thead>\n",
       "  <tbody>\n",
       "    <tr>\n",
       "      <th>0</th>\n",
       "      <td>Lasso</td>\n",
       "      <td>0.99667</td>\n",
       "    </tr>\n",
       "    <tr>\n",
       "      <th>1</th>\n",
       "      <td>XGBoost</td>\n",
       "      <td>0.99970</td>\n",
       "    </tr>\n",
       "    <tr>\n",
       "      <th>2</th>\n",
       "      <td>AdaBoost</td>\n",
       "      <td>0.99970</td>\n",
       "    </tr>\n",
       "  </tbody>\n",
       "</table>\n",
       "</div>"
      ],
      "text/plain": [
       "      Model  Accuracy\n",
       "0     Lasso   0.99667\n",
       "1   XGBoost   0.99970\n",
       "2  AdaBoost   0.99970"
      ]
     },
     "execution_count": 43,
     "metadata": {},
     "output_type": "execute_result"
    }
   ],
   "source": [
    "df = pd.DataFrame(df, columns = ['Model', 'Accuracy'])\n",
    "df"
   ]
  },
  {
   "cell_type": "markdown",
   "id": "peaceful-charge",
   "metadata": {},
   "source": [
    "Comparisons of models: Since the data is highly unbalanced, the accuracy rates came out to be high. XGBoost and AdaBoost models had slightly higher accuracy rates compared to the Lasso model. XGBoost and AdaBoost models had exactly the same accuracy rate. One can figure this out by looking at the confusion matrix. The best models are both XGBoost and AdaBoost models."
   ]
  },
  {
   "cell_type": "markdown",
   "id": "alone-integration",
   "metadata": {},
   "source": [
    "The models are inflexible and hard to interpret because the dataset is unbalanced. For instance, there were 25127 good clients but only 7 bad clients. XGBoost model and AdaBoost model had very high accuracy and sensitivity, there should be more bad clients data to have better interpretation"
   ]
  }
 ],
 "metadata": {
  "kernelspec": {
   "display_name": "Python 3",
   "language": "python",
   "name": "python3"
  },
  "language_info": {
   "codemirror_mode": {
    "name": "ipython",
    "version": 3
   },
   "file_extension": ".py",
   "mimetype": "text/x-python",
   "name": "python",
   "nbconvert_exporter": "python",
   "pygments_lexer": "ipython3",
   "version": "3.7.10"
  }
 },
 "nbformat": 4,
 "nbformat_minor": 5
}
