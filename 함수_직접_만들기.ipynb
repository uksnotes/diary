{
  "nbformat": 4,
  "nbformat_minor": 0,
  "metadata": {
    "orig_nbformat": 4,
    "language_info": {
      "name": "python",
      "version": "3.7.7",
      "mimetype": "text/x-python",
      "codemirror_mode": {
        "name": "ipython",
        "version": 3
      },
      "pygments_lexer": "ipython3",
      "nbconvert_exporter": "python",
      "file_extension": ".py"
    },
    "kernelspec": {
      "name": "python3",
      "display_name": "Python 3.7.7 64-bit ('NLPassn': conda)"
    },
    "interpreter": {
      "hash": "ade55d4c86be7d50874b83e4277b883dd708f548765dc318ed8eee76ae3e5626"
    },
    "colab": {
      "name": "함수_직접_만들기.ipynb",
      "provenance": [],
      "collapsed_sections": []
    }
  },
  "cells": [
    {
      "cell_type": "markdown",
      "metadata": {
        "id": "UrC-IOlfj_4Z"
      },
      "source": [
        "## **abs** 함수 구현\n",
        "\n"
      ]
    },
    {
      "cell_type": "code",
      "metadata": {
        "id": "RCpeIZx8j_4a",
        "colab": {
          "base_uri": "https://localhost:8080/"
        },
        "outputId": "825a88bf-b361-4c08-9c34-85d2e0bdaa7a"
      },
      "source": [
        "def my_abs(number):\n",
        "    return number if number >= 0 else -number\n",
        "\n",
        "test1 = 2.2\n",
        "test2 = -9\n",
        "assert abs(1) == my_abs(1)\n",
        "assert abs(2) == my_abs(2)\n",
        "print(\"통과\")"
      ],
      "execution_count": null,
      "outputs": [
        {
          "output_type": "stream",
          "text": [
            "통과\n"
          ],
          "name": "stdout"
        }
      ]
    },
    {
      "cell_type": "code",
      "metadata": {
        "id": "yue-sTet60jD"
      },
      "source": [
        "def my_abs(number):\n",
        "    return number if number >= 0 else -number"
      ],
      "execution_count": null,
      "outputs": []
    },
    {
      "cell_type": "markdown",
      "metadata": {
        "id": "sBqLryIxj_4a"
      },
      "source": [
        "## **round** 함수 구현"
      ]
    },
    {
      "cell_type": "code",
      "metadata": {
        "colab": {
          "base_uri": "https://localhost:8080/"
        },
        "id": "eyGDSz0Q7Nqs",
        "outputId": "65214f69-58c5-461a-dcfd-9e38f1476218"
      },
      "source": [
        "def my_round(number, ndgits=None):\n",
        "    if ndgits is None:\n",
        "        result = str('{:.0f}')\n",
        "        return int(result.format(number))\n",
        "    else:\n",
        "        result = str('{:.'+ str(ndgits)+ 'f}')\n",
        "        return float(result.format(number))\n",
        "\n",
        "test = 1.723525\n",
        "assert round(test) == my_round(test)\n",
        "assert round(test, 3) == my_round(test, 3)\n",
        "assert round(-test, 2) == my_round(-test, 2)\n",
        "print(\"통과\")"
      ],
      "execution_count": null,
      "outputs": [
        {
          "output_type": "stream",
          "text": [
            "통과\n"
          ],
          "name": "stdout"
        }
      ]
    },
    {
      "cell_type": "markdown",
      "metadata": {
        "id": "H2qkHFLAIU2-"
      },
      "source": [
        "## **any** 함수 구현\n"
      ]
    },
    {
      "cell_type": "code",
      "metadata": {
        "colab": {
          "base_uri": "https://localhost:8080/"
        },
        "id": "bBgygXKhIZU7",
        "outputId": "3fb9bf04-547a-47ac-e0d2-01de578b3b02"
      },
      "source": [
        "def my_any(iterable):\n",
        "    for i in iterable:\n",
        "        if i == True:\n",
        "            return True\n",
        "    return False\n",
        "\n",
        "test1 = [True, 7 == 5, 'Something', False]\n",
        "test2 = [8 > 5, 10 != 10, False, '', None]\n",
        "assert any(test1) == my_any(test1)\n",
        "assert any(test2) == my_any(test2)\n",
        "print(\"통과\")"
      ],
      "execution_count": null,
      "outputs": [
        {
          "output_type": "stream",
          "text": [
            "통과\n"
          ],
          "name": "stdout"
        }
      ]
    },
    {
      "cell_type": "markdown",
      "metadata": {
        "id": "r1a2t34Sj_4b"
      },
      "source": [
        "## **enumerate** 함수 구현"
      ]
    },
    {
      "cell_type": "code",
      "metadata": {
        "id": "Eb3wJhDJj_4c",
        "colab": {
          "base_uri": "https://localhost:8080/"
        },
        "outputId": "8a73e75c-4590-4cad-c25d-1768122d2fed"
      },
      "source": [
        "def my_enumerate(sequence, start=0):\n",
        "    n = start \n",
        "    for i in sequence:\n",
        "        yield n, i\n",
        "        n += 1\n",
        "\n",
        "test1 = [60, 50, 20, 10]\n",
        "test2 = [True, None, 'test']\n",
        "assert list(enumerate(test1)) == list(my_enumerate(test1))\n",
        "assert list(enumerate(test2, 12)) == list(my_enumerate(test2, 12))\n",
        "print(\"통과\")"
      ],
      "execution_count": null,
      "outputs": [
        {
          "output_type": "stream",
          "text": [
            "통과\n"
          ],
          "name": "stdout"
        }
      ]
    },
    {
      "cell_type": "code",
      "metadata": {
        "colab": {
          "base_uri": "https://localhost:8080/"
        },
        "id": "mrr0HNfQJzLo",
        "outputId": "c2a154a2-6cc1-4134-81d0-17966d368d9a"
      },
      "source": [
        "test1 = [60, 50, 20, 10]\n",
        "test2 = [True, None, 'test']\n",
        "\n",
        "list(enumerate(test1, 2))"
      ],
      "execution_count": null,
      "outputs": [
        {
          "output_type": "execute_result",
          "data": {
            "text/plain": [
              "[(2, 60), (3, 50), (4, 20), (5, 10)]"
            ]
          },
          "metadata": {
            "tags": []
          },
          "execution_count": 24
        }
      ]
    },
    {
      "cell_type": "markdown",
      "metadata": {
        "id": "6GhbhgNsj_4c"
      },
      "source": [
        "## **max min** 함수 구현"
      ]
    },
    {
      "cell_type": "code",
      "metadata": {
        "id": "CPb7b92Fj_4c",
        "colab": {
          "base_uri": "https://localhost:8080/"
        },
        "outputId": "0b1798da-bb7a-4744-e7bb-82eb09fcc897"
      },
      "source": [
        "def my_max(*args):\n",
        "  if len(args) == 1 and  isinstance(args[0], list):\n",
        "    return sorted(args[0])[-1]\n",
        "  else:\n",
        "    return sorted(args)[-1]\n",
        "    \n",
        "def my_min(*args):\n",
        "  if len(args) == 1 and  isinstance(args[0], list):\n",
        "    return sorted(args[0])[0]\n",
        "  else:\n",
        "    return sorted(args)[0]\n",
        "\n",
        "test = [7, 5, 3, 4, 9]\n",
        "assert max(test) == my_max(test) and min(test) == my_min(test)\n",
        "assert max(7, 5, 2, 1) == my_max(7, 5, 2, 1) and min(7, 5, 2, 1) == my_min(7, 5, 2, 1)\n",
        "print(\"통과\")"
      ],
      "execution_count": null,
      "outputs": [
        {
          "output_type": "stream",
          "text": [
            "통과\n"
          ],
          "name": "stdout"
        }
      ]
    },
    {
      "cell_type": "markdown",
      "metadata": {
        "id": "LYJx5t63j_4c"
      },
      "source": [
        "## **range** 함수 구현"
      ]
    },
    {
      "cell_type": "code",
      "metadata": {
        "colab": {
          "base_uri": "https://localhost:8080/"
        },
        "id": "Xa83y4YvKxqx",
        "outputId": "d221796e-d17d-4353-eca9-72b6412e9bbb"
      },
      "source": [
        "def my_range(*args):\n",
        "    if len(args) == 1:\n",
        "        stop = args[0]\n",
        "        i = 0 \n",
        "        while i < stop:\n",
        "            yield i\n",
        "            i += 1\n",
        "    if len(args) == 2:\n",
        "        start = args[0]\n",
        "        stop = args[1]\n",
        "        i = start\n",
        "        while i < stop:\n",
        "            yield i\n",
        "            i += 1\n",
        "    if len(args) == 3:\n",
        "        start = args[0]\n",
        "        stop = args[1]\n",
        "        step = args[2]\n",
        "        i = start\n",
        "        while i < stop:\n",
        "            yield i\n",
        "            i += step\n",
        "    else:\n",
        "        None\n",
        "\n",
        "assert list(range(10)) == list(my_range(10))\n",
        "assert list(range(5, 10)) == list(my_range(5, 10))\n",
        "assert list(range(5, 10, 2)) == list(my_range(5, 10, 2))\n",
        "print(\"통과\")"
      ],
      "execution_count": null,
      "outputs": [
        {
          "output_type": "stream",
          "text": [
            "통과\n"
          ],
          "name": "stdout"
        }
      ]
    },
    {
      "cell_type": "markdown",
      "metadata": {
        "id": "Ki0TIFGij_4d"
      },
      "source": [
        "## **reverse** 함수 구현"
      ]
    },
    {
      "cell_type": "code",
      "metadata": {
        "id": "omq-iRJsj_4d",
        "colab": {
          "base_uri": "https://localhost:8080/"
        },
        "outputId": "80c4bc30-651e-4a61-9ce4-b22d1a20cb22"
      },
      "source": [
        "def my_reversed(seq):\n",
        "    return seq[::-1]\n",
        "\n",
        "test = [7, 4, 2, 6, 8]\n",
        "assert list(reversed(test)) == list(my_reversed(test))\n",
        "print(\"통과\")"
      ],
      "execution_count": null,
      "outputs": [
        {
          "output_type": "stream",
          "text": [
            "통과\n"
          ],
          "name": "stdout"
        }
      ]
    },
    {
      "cell_type": "markdown",
      "metadata": {
        "id": "EO1bxjI2j_4d"
      },
      "source": [
        "## **filter** 함수 구현"
      ]
    },
    {
      "cell_type": "code",
      "metadata": {
        "colab": {
          "base_uri": "https://localhost:8080/"
        },
        "id": "u87Ewpm7L-uf",
        "outputId": "20e551c9-f60e-449a-9ca0-fec02cad366a"
      },
      "source": [
        "def my_filter(function, iterable):\n",
        "    for i in iterable:\n",
        "        if function(i):\n",
        "            yield i\n",
        "\n",
        "def test_function(number):\n",
        "    return number > 5\n",
        "    \n",
        "test = [1, 7, 5, 2, 9, 11]\n",
        "\n",
        "# 역슬래시 \"\\\"를 이용하면 평가식을 다음 줄로 나눌 수 있다.\n",
        "assert list(filter(test_function, test)) == list(my_filter(test_function, test)) \\\n",
        "    == list(filter(lambda x: x > 5, test))\n",
        "print(\"통과\")"
      ],
      "execution_count": null,
      "outputs": [
        {
          "output_type": "stream",
          "text": [
            "통과\n"
          ],
          "name": "stdout"
        }
      ]
    },
    {
      "cell_type": "markdown",
      "metadata": {
        "id": "TFRcIgaej_4e"
      },
      "source": [
        "## **sum** 함수 구현"
      ]
    },
    {
      "cell_type": "code",
      "metadata": {
        "id": "OBMnyE-Jj_4e",
        "colab": {
          "base_uri": "https://localhost:8080/"
        },
        "outputId": "fd4016e2-d19c-44fa-fab2-888d72d1e98a"
      },
      "source": [
        "def my_sum(iterable, start=0):\n",
        "    result = 0\n",
        "    for i in iterable:\n",
        "        result += i\n",
        "    return result\n",
        "\n",
        "test = [7, 4, 2, 6, 8]\n",
        "assert sum(test) == my_sum(test)\n",
        "assert sum(range(10)) == my_sum(my_range(10))\n",
        "assert sum(filter(lambda x: x % 2, range(1, 20, 3))) \\\n",
        "    == my_sum(my_filter(lambda x: x % 2, my_range(1, 20, 3)))\n",
        "print(\"통과\")"
      ],
      "execution_count": null,
      "outputs": [
        {
          "output_type": "stream",
          "text": [
            "통과\n"
          ],
          "name": "stdout"
        }
      ]
    },
    {
      "cell_type": "markdown",
      "metadata": {
        "id": "ECrWOlnjj_4e"
      },
      "source": [
        "## **zip** 함수 구현"
      ]
    },
    {
      "cell_type": "code",
      "metadata": {
        "id": "RoOZHvD67o86",
        "colab": {
          "base_uri": "https://localhost:8080/"
        },
        "outputId": "dd104e3e-697c-4c16-a3b2-3e4aa99e4fbb"
      },
      "source": [
        "def my_zip(*iterable):\n",
        "    iterator = list(map(iter, iterable))\n",
        "    while True:\n",
        "        output = tuple(map(next, iterator))\n",
        "        if len(iterator) != len(output):\n",
        "            break\n",
        "        yield output\n",
        "        \n",
        "test1 = (1, 2, 3)\n",
        "test2 = (10, 2, 30)\n",
        "assert list(zip(test1, test2)) == list(my_zip(test1, test2))\n",
        "\n",
        "test3 = [(10, 20, 30, 40), (55, 22, 66, 70), (False, True, True, False)]\n",
        "assert list(zip(*test3)) == list(my_zip(*test3))\n",
        "print(\"통과\")"
      ],
      "execution_count": null,
      "outputs": [
        {
          "output_type": "stream",
          "text": [
            "통과\n"
          ],
          "name": "stdout"
        }
      ]
    },
    {
      "cell_type": "markdown",
      "metadata": {
        "id": "fK5XCRpHTEtD"
      },
      "source": [
        "## **sort** 함수 구현"
      ]
    },
    {
      "cell_type": "code",
      "metadata": {
        "id": "h3fKPQodj_4f",
        "colab": {
          "base_uri": "https://localhost:8080/"
        },
        "outputId": "c1ad8b9f-e755-44b9-dcd6-88add9455691"
      },
      "source": [
        "def my_sorted(iterable, key = None, reverse = False):\n",
        "    def is_big(a, b):\n",
        "        if key is not None:\n",
        "            return key(a) > key(b)\n",
        "        return a > b\n",
        "        \n",
        "    if reverse is True:\n",
        "        length = len(iterable)-1\n",
        "        for i in range(length):\n",
        "            for j in range(length-i):\n",
        "                if is_big(iterable[j], iterable[j+1]):\n",
        "                    iterable[j], iterable[j+1] = iterable[j+1], iterable[j]\n",
        "        return list(reversed(iterable))\n",
        "    else:\n",
        "        length = len(iterable)-1\n",
        "        for i in range(length):\n",
        "            for j in range(length-i):\n",
        "                if is_big(iterable[j], iterable[j+1]):\n",
        "                    iterable[j], iterable[j+1] = iterable[j+1], iterable[j]\n",
        "        return iterable\n",
        "\n",
        "test1 = [7, 4, 2, 6, 8]\n",
        "assert sorted(test1) == my_sorted(test1)\n",
        "test2 = [(1, 2), (6, 2), (5, 3), (10, 5)]\n",
        "assert sorted(test2) == my_sorted(test2) \\\n",
        "and sorted(test2, reverse=True) == my_sorted(test2, reverse=True) \\\n",
        "and sorted(test2, key=lambda x: x[1]) == my_sorted(test2, key=lambda x: x[1])\n",
        "print(\"통과\")"
      ],
      "execution_count": null,
      "outputs": [
        {
          "output_type": "stream",
          "text": [
            "통과\n"
          ],
          "name": "stdout"
        }
      ]
    },
    {
      "cell_type": "markdown",
      "metadata": {
        "id": "5jTYk1kcTJ9J"
      },
      "source": [
        "## **fibonacci** 함수 구현"
      ]
    },
    {
      "cell_type": "code",
      "metadata": {
        "id": "SathO3raj_4f",
        "colab": {
          "base_uri": "https://localhost:8080/"
        },
        "outputId": "b7b78b37-4ca9-4ded-d1b0-17e4659613b7"
      },
      "source": [
        "def fibonacci(number):\n",
        "  n1, n2 = 1, 1\n",
        "  for number in range(number):\n",
        "    yield n1\n",
        "    n1, n2 = n2, n1 + n2\n",
        "\n",
        "assert list(fibonacci(10)) == [1, 1, 2, 3, 5, 8, 13, 21, 34, 55]\n",
        "assert sum(fibonacci(5)) == 12\n",
        "print(\"통과\") "
      ],
      "execution_count": null,
      "outputs": [
        {
          "output_type": "stream",
          "text": [
            "통과\n"
          ],
          "name": "stdout"
        }
      ]
    },
    {
      "cell_type": "markdown",
      "metadata": {
        "id": "i4buGm6UTNQ6"
      },
      "source": [
        "## **permutation** 함수 구현"
      ]
    },
    {
      "cell_type": "code",
      "metadata": {
        "id": "r9qXLBcXj_4f",
        "colab": {
          "base_uri": "https://localhost:8080/"
        },
        "outputId": "a059face-25aa-4028-f234-c10e662b5b4b"
      },
      "source": [
        "def my_permutations(seq, number):\n",
        "    if number == 1:\n",
        "        return ((el,) for el in seq)\n",
        "\n",
        "    return (\n",
        "        et + (seq[i],) \n",
        "        for i in range(len(seq))\n",
        "        for et in my_permutations(seq[:i] + seq[i+1:], number - 1)\n",
        "    )\n",
        "from itertools import permutations\n",
        "test = [1, 2, 3, 4]\n",
        "\n",
        "assert set(permutations(test, 2)) == set(my_permutations(test, 2)) \\\n",
        "   and set(permutations(test, 3)) == set(my_permutations(test, 3))\n",
        "print(\"통과\") "
      ],
      "execution_count": 45,
      "outputs": [
        {
          "output_type": "stream",
          "text": [
            "통과\n"
          ],
          "name": "stdout"
        }
      ]
    },
    {
      "cell_type": "markdown",
      "metadata": {
        "id": "dxKFPwGYTTlY"
      },
      "source": [
        "## **combination** 함수 구현"
      ]
    },
    {
      "cell_type": "code",
      "metadata": {
        "id": "CJer6T7Nj_4g",
        "colab": {
          "base_uri": "https://localhost:8080/"
        },
        "outputId": "99255663-6ef9-43e3-84cc-b3720a143fe1"
      },
      "source": [
        "def my_combinations(seq, number):\n",
        "    if number == 1:\n",
        "        return ((el,) for el in seq)\n",
        "\n",
        "    return (\n",
        "        et + (seq[i],) \n",
        "        for i in range(len(seq))\n",
        "        for et in my_combinations(seq[:i], number - 1)\n",
        "    )\n",
        "\n",
        "from itertools import combinations\n",
        "test = [1, 2, 3, 4]\n",
        "\n",
        "assert set(combinations(test, 2)) == set(my_combinations(test, 2)) \\\n",
        "   and set(combinations(test, 3)) == set(my_combinations(test, 3))\n",
        "print(\"통과\") "
      ],
      "execution_count": 43,
      "outputs": [
        {
          "output_type": "stream",
          "text": [
            "통과\n"
          ],
          "name": "stdout"
        }
      ]
    },
    {
      "cell_type": "code",
      "metadata": {
        "id": "vju5JVj1D-Fb"
      },
      "source": [
        ""
      ],
      "execution_count": null,
      "outputs": []
    }
  ]
}